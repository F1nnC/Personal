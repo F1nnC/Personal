{
 "cells": [
  {
   "attachments": {},
   "cell_type": "markdown",
   "metadata": {},
   "source": [
    "---\n",
    "- title: Workshop 4 - Lesson on 2D Arrays and Traversing them \n",
    "- author: david\n",
    "- categories: [Lab Notebook]\n",
    "- tags: [Java]\n",
    "- type: tangibles\n",
    "- week: 30\n",
    "- description: Unit 8 of CB\n",
    "- toc: True\n",
    "- comments: True\n",
    "- date: 2024-04-21 12:00:00 +0000\n",
    "---"
   ]
  },
  {
   "attachments": {},
   "cell_type": "markdown",
   "metadata": {},
   "source": [
    "<h2>  8.1: Declaring + Initializing 2D Arrays; Determining their  </h2>\n",
    "\n",
    "> Review: \n",
    "Arrays are a collection (list) of elements (primitive or object reference type data)  \n",
    "\n",
    "So, a 2-Dimensional array is an array where the elements within that array are other arrays \n",
    "\n",
    "2D arrays can be better at storing certain types of information \n",
    "\n",
    "* Especially if the data represents a space, with rows and columns\n",
    "\n",
    "\n",
    "Seating chart: \n",
    "| . | Column 1 | Column 2 | Column 3 | \n",
    "| - | - | - | - |\n",
    "| Row 1 | Abby | Ben | Clara |  | \n",
    "| Row 2 | Ethan | Frank |  |  | \n",
    "| Row 3 | Isabelle | John | Kim | Leo | \n",
    "\n",
    "Note that this is a non-rectangular 2D array \n",
    "\n",
    "* Or if the data needs to be classified under categories \n",
    "\n",
    "| . | Month 1 | Month 2 | Month 3 | \n",
    "| - | - | - | - |\n",
    "|  Winter | December | January | February |\n",
    "|  Spring | March | April | May |\n",
    "|  Summer | June | July | August |\n",
    "|  Fall | Summer | October | November |\n",
    "\n",
    "This is a rectangular 2D array. Non-rectangular 2D arrays are not a part of the CSA course\n",
    "\n",
    "\n",
    "<h4> Declaring a 2D array </h2>\n",
    "\n",
    "2D Arrays can be declared like this: \n",
    "\n",
    "`dataType[][] nameOfArray;`"
   ]
  },
  {
   "attachments": {},
   "cell_type": "markdown",
   "metadata": {},
   "source": [
    "<h3> Initializing a 2D array </h3>\n",
    "\n",
    "`new dataType[r][c];`\n",
    "\n",
    "r: number of rows (number of arrays)\n",
    "<br>\n",
    "c: number of columns (length of each array)"
   ]
  },
  {
   "cell_type": "code",
   "execution_count": null,
   "metadata": {
    "vscode": {
     "languageId": "java"
    }
   },
   "outputs": [],
   "source": [
    "public class Seasons {\n",
    "\n",
    "    private String[][] Seasons = new String[2][3];\n",
    "\n",
    "    // Or, if you already know what the elements should be:\n",
    "\n",
    "    private String[][] Seasons2 = {\n",
    "        {\"December\", \"January\", \"February\"},\n",
    "        {\"March\", \"April\", \"May\"},\n",
    "        {\"June\", \"July\", \"August\"},\n",
    "        {\"September\", \"October\", \"November\"}\n",
    "    };\n",
    "\n",
    "}\n"
   ]
  },
  {
   "attachments": {},
   "cell_type": "markdown",
   "metadata": {},
   "source": [
    "\n",
    "### Size of 2D Arrays\n",
    "\n",
    "The size of the 2D array is classified by number of rows by number of columns \n",
    "\n",
    "Number of rows can be found like this: \n",
    "\n",
    "`r = trimesterCourses.length`\n",
    "\n",
    "This would give the number of arrays within the 2D array, since each array is an element\n",
    "\n",
    "For number of columns: \n",
    "\n",
    "`c = trimesterCourses[0].length`\n",
    "\n",
    "This finds the number of elements of the first array within the 2D array.\n",
    "\n",
    "\n",
    "<h3> Accessing the Elements of a 2D Array </h3>\n",
    "\n",
    "The elements of a 2D array can be accessed using index\n",
    "\n",
    "`Seasons[0][2]`\n",
    "\n",
    "\n",
    "**Output: February**\n",
    "\n",
    "the value in the first bracket is the index of the rows, or which array we are accessing. In this case, the 0th index means we are accessing the first array \n",
    "\n",
    "The value in the second bracket is the index within the array. So we are looking for the 2nd value within the first array.\n",
    "\n",
    "\n",
    "To update the element of a 2D array, all you need to do is reference its location and change the value. \n",
    "\n",
    "\n",
    "\n"
   ]
  },
  {
   "cell_type": "code",
   "execution_count": 1,
   "metadata": {
    "vscode": {
     "languageId": "java"
    }
   },
   "outputs": [
    {
     "name": "stdout",
     "output_type": "stream",
     "text": [
      "February\n",
      "Changed Value\n"
     ]
    }
   ],
   "source": [
    "public class Seasons {\n",
    "\n",
    "    private String[][] seasons = new String[2][3];\n",
    "\n",
    "    private static String[][] seasons2 = {\n",
    "        {\"December\", \"January\", \"February\"},\n",
    "        {\"March\", \"April\", \"May\"},\n",
    "        {\"June\", \"July\", \"August\"},\n",
    "        {\"September\", \"October\", \"November\"}\n",
    "    };\n",
    "\n",
    "    public static void main(String[] args) {\n",
    "        System.out.println(seasons2[0][2]);\n",
    "        seasons2[0][2] = \"Changed Value\";  \n",
    "        System.out.println(seasons2[0][2]);\n",
    "    }\n",
    "}\n",
    "\n",
    "Seasons.main(null);\n",
    "\n"
   ]
  },
  {
   "attachments": {},
   "cell_type": "markdown",
   "metadata": {},
   "source": [
    "### Popcorn Hack:\n"
   ]
  },
  {
   "cell_type": "code",
   "execution_count": 3,
   "metadata": {
    "vscode": {
     "languageId": "java"
    }
   },
   "outputs": [
    {
     "name": "stdout",
     "output_type": "stream",
     "text": [
      "85\n",
      "90\n",
      "78\n",
      "92\n",
      "99\n",
      "92\n",
      "88\n",
      "91\n",
      "97\n",
      "80\n",
      "79\n",
      "85\n",
      "83\n",
      "95\n",
      "67\n",
      "Updated:\n",
      "85\n",
      "90\n",
      "78\n",
      "92\n",
      "99\n",
      "92\n",
      "88\n",
      "91\n",
      "97\n",
      "80\n",
      "79\n",
      "85\n",
      "90\n",
      "95\n",
      "67\n"
     ]
    }
   ],
   "source": [
    "public class TrimesterGrades {\n",
    "\n",
    "    private static int[][] trimesterGrades = {\n",
    "        {85, 90, 78, 92, 99}, // tri 1\n",
    "        {92, 88, 91, 97, 80}, // tri 2\n",
    "        {79, 85, 83, 95, 67}  // tri 3\n",
    "    };\n",
    "\n",
    "    public static void printArray(int[][] grid) {\n",
    "        for (int i = 0; i < grid.length; i++) {\n",
    "            for (int j = 0; j < grid[i].length; j++) {\n",
    "                System.out.println(grid[i][j]);\n",
    "            }\n",
    "        }\n",
    "    }\n",
    "\n",
    "    public static void main(String args[]) {\n",
    "        printArray(trimesterGrades);\n",
    "        \n",
    "        int newGrade = 90;\n",
    "        trimesterGrades[2][2] = newGrade;\n",
    "        \n",
    "        System.out.println(\"Updated:\");\n",
    "        printArray(trimesterGrades);\n",
    "    }\n",
    "}\n",
    "\n",
    "TrimesterGrades.main(null);"
   ]
  },
  {
   "attachments": {},
   "cell_type": "markdown",
   "metadata": {},
   "source": [
    "The 2D array keeps track of a students grade, grouped by each trimester. \n",
    "The student, currently in Trimester 3, retook a test in their 3rd period, which raised that grade to 90. \n",
    "\n",
    "Show how they would write code that changes the grade for the 3rd period class"
   ]
  },
  {
   "cell_type": "markdown",
   "metadata": {},
   "source": [
    "8.2 - Traversing 2D Arrays\n",
    "\n",
    "- Learning Objective: Using nested + enhanced for loops to traverse arrays\n",
    "\n",
    "- How to use a nested loop to traverse a 2d array\n",
    "    - Have an outer loop to iterate through each row\n",
    "    - Have an inner loop that iterates through each column\n",
    "    - It traverses from left to right and goes up to down (ABCDE → FGHIJ)\n",
    "![image](https://github.com/John-sCC/jcc_frontend/assets/82348259/b93a73c1-8b76-4acb-a2f5-f51dc704f21c)\n",
    "\n",
    "\n",
    "- How to use enhanced for loops\n",
    "  - Get each row within the grid\n",
    "  - Get each value within each row\n",
    "\n",
    "![image](https://github.com/John-sCC/jcc_frontend/assets/82348259/5f02267f-8a55-4248-8a9a-ca9be24fa2cd)\n"
   ]
  },
  {
   "cell_type": "markdown",
   "metadata": {},
   "source": [
    "- How to traverse using row-major vs column-major order\n",
    "- Row-major order: get each row and then get the columns in it\n",
    "    - Make the outer loop for each row and the inner loop for the columns when using nested loops\n",
    "    - Get each row in the grid and then get each letter in the row when using enhanced loops\n",
    "- Column-major order: get each column and then get the rows in it\n",
    "    - Can’t switch the row and col vars in the print statement\n",
    "    - Have to switch the order that the row and column loops are in\n",
    "    - Make the outer loop for each column and the inner loop for the row \n",
    "\n",
    "![image](https://github.com/John-sCC/jcc_frontend/assets/82348259/dee9cdf9-9d6f-4b9c-b5e2-35cb9fa58c9b)"
   ]
  },
  {
   "cell_type": "code",
   "execution_count": 1,
   "metadata": {
    "vscode": {
     "languageId": "java"
    }
   },
   "outputs": [
    {
     "name": "stdout",
     "output_type": "stream",
     "text": [
      "Row-major indexing:\n",
      "1\n",
      "2\n",
      "3\n",
      "4\n",
      "5\n",
      "6\n",
      "7\n",
      "8\n",
      "9\n"
     ]
    }
   ],
   "source": [
    "public class RowMajorIndexing {\n",
    "    public static void main(String[] args) {\n",
    "        int[][] matrix = {\n",
    "            {1, 2, 3},\n",
    "            {4, 5, 6},\n",
    "            {7, 8, 9}\n",
    "        };\n",
    "        int rows = matrix.length;\n",
    "        int cols = matrix[0].length;\n",
    "        System.out.println(\"Row-major indexing:\");\n",
    "        for (int i = 0; i < rows; i++) {\n",
    "            for (int j = 0; j < cols; j++) {\n",
    "                int index = i * cols + j;\n",
    "                System.out.println(matrix[i][j]);\n",
    "            }\n",
    "        }\n",
    "    }\n",
    "}\n",
    "RowMajorIndexing.main(null)"
   ]
  },
  {
   "cell_type": "code",
   "execution_count": 2,
   "metadata": {
    "vscode": {
     "languageId": "java"
    }
   },
   "outputs": [
    {
     "name": "stdout",
     "output_type": "stream",
     "text": [
      "Column-major indexing:\n",
      "1\n",
      "4\n",
      "7\n",
      "2\n",
      "5\n",
      "8\n",
      "3\n",
      "6\n",
      "9\n"
     ]
    }
   ],
   "source": [
    "public class ColumnMajorIndexing {\n",
    "    public static void main(String[] args) {\n",
    "        int[][] matrix = {\n",
    "            {1, 2, 3},\n",
    "            {4, 5, 6},\n",
    "            {7, 8, 9}\n",
    "        };\n",
    "        int rows = matrix.length;\n",
    "        int cols = matrix[0].length;\n",
    "        System.out.println(\"Column-major indexing:\");\n",
    "        for (int j = 0; j < cols; j++) {\n",
    "            for (int i = 0; i < rows; i++) {\n",
    "                int index = i + j * rows;\n",
    "                System.out.println(matrix[i][j]);\n",
    "            }\n",
    "        }\n",
    "    }\n",
    "}\n",
    "ColumnMajorIndexing.main(null)"
   ]
  },
  {
   "cell_type": "markdown",
   "metadata": {},
   "source": [
    "- How to search for values in a 2d array\n",
    "    - Use nested loops and in the inner loop make an if statement that returns True if a certain value is found\n",
    "- Finding the max/min\n",
    "    - Save the index of the extrema and in the inner loop have a comparison statement that determines that value\n"
   ]
  },
  {
   "cell_type": "markdown",
   "metadata": {},
   "source": [
    "<img width=\"667\" alt=\"image\" src=\"https://github.com/AniCricKet/musical-guacamole/assets/91163802/84cb12be-b868-441a-96d0-51b12ff0d697\">\n",
    "\n",
    "(b) Write a static method rowSums that calculates the sums of each of the rows in a given twodimensional array and returns these sums in a one-dimensional array. The method has one parameter, a twodimensional array arr2D of int values. The array is in row-major order: arr2D[r][c] is the entry at row r and column c. The method returns a one-dimensional array with one entry for each row of arr2D such that each entry is the sum of the corresponding row in arr2D. As a reminder, each row of a two-dimensional array is a one-dimensional array. For example, if mat1 is the array represented by the following table, the call rowSums(mat1) returns the array {16, 32, 28, 20}. Assume that arraySum works as specified, regardless of what you wrote in part (a). You must use arraySum appropriately to receive full credit. Complete method rowSums below."
   ]
  },
  {
   "cell_type": "code",
   "execution_count": null,
   "metadata": {
    "vscode": {
     "languageId": "java"
    }
   },
   "outputs": [
    {
     "name": "stdout",
     "output_type": "stream",
     "text": [
      "Row Sums: [I@7a4e0073\n",
      "Row 0 Sum: 16\n",
      "Row 1 Sum: 32\n",
      "Row 2 Sum: 28\n",
      "Row 3 Sum: 20\n"
     ]
    }
   ],
   "source": [
    "class DiverseArray { // class mentioned in FRQ\n",
    "    public static int arraySum(int[] arr) { // same method as previous part reused\n",
    "        int sum = 0;\n",
    "        for (int i = 0; i < arr.length; i++) {\n",
    "            sum += arr[i];\n",
    "        }\n",
    "        return sum;\n",
    "    }\n",
    "\n",
    "    public static int[] rowSums (int[][] arr2D) { // new rowSum method\n",
    "        int [] rowSums = new int[arr2D.length]; // initializing the array for the row sums\n",
    "        for (int j = 0; j < arr2D.length; j++) { // for loop going through each array to find the sum\n",
    "            rowSums[j] = arraySum(arr2D[j]); // placing the resulting sum from the arraySum method into the rowSums array\n",
    "        }\n",
    "        return rowSums; // returning array of values for the rowSums\n",
    "    }\n",
    "}\n",
    "\n",
    "int[][] mat1 = { {1, 3, 2, 7, 3}, {10, 10, 4, 6, 2}, {5, 3, 5, 9, 6}, {7, 6, 4, 2, 1} }; // example matrix from frq\n",
    "int [] rowSumsJava = DiverseArray.rowSums(mat1);\n",
    "System.out.println(\"Row Sums: \" + rowSumsJava); // printing out array, printed bad because of ipynb\n",
    "for (int k = 0; k < rowSumsJava.length; k++) { // fixed by iterating through each value in the row and printing out\n",
    "    System.out.println(\"Row \" + k + \" Sum: \" + rowSumsJava[k]);\n",
    "}"
   ]
  },
  {
   "cell_type": "markdown",
   "metadata": {},
   "source": [
    "![image](https://github.com/AniCricKet/musical-guacamole/assets/91163802/40654587-a7af-4918-ab01-5000ba097a9b)\n",
    "\n",
    "(c) A two-dimensional array is diverse if no two of its rows have entries that sum to the same value. In the following examples, the array mat1 is diverse because each row sum is different, but the array mat2 is not diverse because the first and last rows have the same sum.Assume that arraySum and rowSums work as specified, regardless of what you wrote in parts (a) and (b). You must use rowSums appropriately to receive full credit. Complete method isDiverse below."
   ]
  },
  {
   "cell_type": "code",
   "execution_count": null,
   "metadata": {
    "vscode": {
     "languageId": "java"
    }
   },
   "outputs": [
    {
     "name": "stdout",
     "output_type": "stream",
     "text": [
      "Row 0 Sum: 16\n",
      "Row 1 Sum: 32\n",
      "Row 2 Sum: 28\n",
      "Row 3 Sum: 20\n",
      "Array 1 Diversity: true\n",
      "Row 0 Sum: 14\n",
      "Row 1 Sum: 35\n",
      "Row 2 Sum: 36\n",
      "Row 3 Sum: 14\n",
      "Array 2 Diversity: false\n"
     ]
    }
   ],
   "source": [
    "class DiverseArray { // class mentioned in FRQ\n",
    "    public static int arraySum(int[] arr) { \n",
    "        int sum = 0;\n",
    "        for (int i = 0; i < arr.length; i++) {\n",
    "            sum += arr[i];\n",
    "        }\n",
    "        return sum;\n",
    "    }\n",
    "\n",
    "    public static int[] rowSums (int[][] arr2D) { // same method as previous part reused\n",
    "        int [] rowSums = new int[arr2D.length];\n",
    "        for (int j = 0; j < arr2D.length; j++) {\n",
    "            rowSums[j] = arraySum(arr2D[j]);\n",
    "        }\n",
    "        return rowSums;\n",
    "    }\n",
    "\n",
    "    public static boolean isDiverse(int[][] arr2D) { // new isDiverse method\n",
    "        int[] sums = rowSums(arr2D); // makes array of the row sums from the matrix\n",
    "        for (int k = 0; k < sums.length; k++) { // iterates through each value of the sums array\n",
    "            for (int l = k + 1; l < sums.length; l++) { // looks through each other value to the current value it's on\n",
    "                if (sums[k] == sums[l]) { // compares the two \n",
    "                    return false; // when the condition is false\n",
    "                }\n",
    "            }\n",
    "        }\n",
    "        return true; // if no values are equal, return true\n",
    "    }\n",
    "}\n",
    "\n",
    "int[][] mat1 = { {1, 3, 2, 7, 3}, {10, 10, 4, 6, 2}, {5, 3, 5, 9, 6}, {7, 6, 4, 2, 1} }; // matrix that would return true\n",
    "int[][] mat2 = { {1, 1, 5, 3, 4}, {12, 7, 6, 1, 9}, {8, 11, 10, 2, 5}, {3, 2, 3, 0, 6} }; // matrix that would return false\n",
    "\n",
    "// printing out all data as before\n",
    "int [] rowSumsJava1 = DiverseArray.rowSums(mat1);\n",
    "for (int m = 0; m < rowSumsJava1.length; m++) {\n",
    "    System.out.println(\"Row \" + m + \" Sum: \" + rowSumsJava1[m]);\n",
    "}\n",
    "System.out.println(\"Array 1 Diversity: \" + DiverseArray.isDiverse(mat1));\n",
    "int [] rowSumsJava2 = DiverseArray.rowSums(mat2);\n",
    "for (int n = 0; n < rowSumsJava2.length; n++) {\n",
    "    System.out.println(\"Row \" + n + \" Sum: \" + rowSumsJava2[n]);\n",
    "}\n",
    "System.out.println(\"Array 2 Diversity: \" + DiverseArray.isDiverse(mat2));"
   ]
  }
 ],
 "metadata": {
  "kernelspec": {
   "display_name": "Java",
   "language": "java",
   "name": "java"
  },
  "language_info": {
   "codemirror_mode": "java",
   "file_extension": ".jshell",
   "mimetype": "text/x-java-source",
   "name": "Java",
   "pygments_lexer": "java",
   "version": "17.0.10+7-Ubuntu-122.04.1"
  },
  "orig_nbformat": 4
 },
 "nbformat": 4,
 "nbformat_minor": 2
}

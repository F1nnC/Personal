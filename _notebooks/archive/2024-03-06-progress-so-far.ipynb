{
 "cells": [
  {
   "cell_type": "markdown",
   "metadata": {},
   "source": [
    "---\n",
    "- title: Tri 1-2 Progression\n",
    "- author: david\n",
    "- categories: [Lab Notebook]\n",
    "- tags: [Java, Collegeboard]\n",
    "- type: tangibles\n",
    "- week: 26\n",
    "- description: Reflection so far\n",
    "- toc: True\n",
    "- comments: True\n",
    "- date: 2024-03-07 12:00:00 +0000\n",
    "---"
   ]
  },
  {
   "cell_type": "markdown",
   "metadata": {},
   "source": [
    "## 100% Seed\n",
    "\n",
    "This is my grade from last tri, which is above a 93%:\n",
    "![Image](https://github.com/CSA-AI/archived-frontend/assets/111480448/81f784a9-4862-407c-8cb6-05d37737333c)\n",
    "\n",
    "I also communicated with my teammates well, organizing everything in a scrumboard and creating a slack group in which to communicate.\n",
    "\n",
    "![Image](https://github.com/CSA-AI/archived-frontend/assets/111480448/ddbf5c7b-e467-4463-b62d-3b10940ea8dc)\n",
    "\n",
    "![Image](https://github.com/CSA-AI/archived-frontend/assets/111480448/cf59c7e8-32d3-428d-832e-1592bf01e518)\n"
   ]
  },
  {
   "cell_type": "markdown",
   "metadata": {},
   "source": [
    "## 90% Seed\n",
    "\n",
    "### AP Preparation\n",
    "\n",
    "I am currently using FRQs and MCQs to study for the AP exam.\n",
    "\n",
    "| Resource | Link |\n",
    "|-|-|\n",
    "| 2015 FRQ 1 | [Link](https://davidvasilev1.github.io/CSAsite/posts/FRQ2015-Part4/) |\n",
    "| 2015 FRQ 2 | [Link](https://davidvasilev1.github.io/CSAsite/posts/FRQ2015-Part2/) |\n",
    "| 2015 FRQ 3 | [Link](https://davidvasilev1.github.io/CSAsite/posts/FRQ2015-Part3/) |\n",
    "| 2015 FRQ 4 | [Link](https://davidvasilev1.github.io/CSAsite/posts/FRQ2015-Part4/) |\n",
    "| 2015 MCQ | [Link](https://davidvasilev1.github.io/CSAsite/posts/Test2-Reflection/) |\n",
    "| 2014 MCQ | [Link](https://davidvasilev1.github.io/CSAsite/posts/Collegeboard-test1/) |\n",
    "\n",
    "In the future I would like to do more practice FRQs as well as MCQs. I also want to create flashcards to study terms for the test.\n",
    "\n",
    "### Github Commits\n",
    "\n",
    "![Image](https://github.com/CSA-AI/archived-frontend/assets/111480448/71248058-4716-4322-bd3c-b219ebc2bc37)\n",
    "\n",
    "**Frontends**\n",
    "![image](https://github.com/DavidVasilev1/CSAsite/assets/111480448/9892e96d-891a-4e86-a3dc-6ecccd974a58)\n",
    "![image](https://github.com/DavidVasilev1/CSAsite/assets/111480448/b29a6dff-9dcf-4e49-9a80-5e03bf9c1be4)\n",
    "![image](https://github.com/DavidVasilev1/CSAsite/assets/111480448/e0cf3ef9-07b7-4c60-8714-a1b79698803f)\n",
    "\n",
    "**Backends**\n",
    "![image](https://github.com/DavidVasilev1/CSAsite/assets/111480448/8b178fee-40c1-48d4-9487-e26be038e43c)\n",
    "![image](https://github.com/DavidVasilev1/CSAsite/assets/111480448/9cdf15fc-d0f4-4f0a-bf21-95a2c3bd4319)\n",
    "\n",
    "### Project Blogs\n",
    "\n",
    "These are some blogs I've worked on to help me learn what I am participating in.\n",
    "\n",
    "| Blog | Link |\n",
    "|-|-|\n",
    "| LSTM and RNNs | [Link](https://csa-ai-frontend.vercel.app/lab%20notebook/2024/01/17/Java_LSTM_test_IPYNB_2_.html) |\n",
    "| User API | [Link](https://davidvasilev1.github.io/CSAsite//posts/spring/) |\n",
    "| Roles and Admin | [Link](https://davidvasilev1.github.io/CSAsite//posts/Roles_Lesson/) |\n",
    "\n",
    "### AP Work\n",
    "\n",
    "This is some of my AP work with FRQs.\n",
    "\n",
    "| Resource | Link |\n",
    "|-|-|\n",
    "| 2015 FRQ 1 | [Link](https://davidvasilev1.github.io/CSAsite/posts/FRQ2015-Part4/) |\n",
    "| 2015 FRQ 2 | [Link](https://davidvasilev1.github.io/CSAsite/posts/FRQ2015-Part2/) |\n",
    "| 2015 FRQ 3 | [Link](https://davidvasilev1.github.io/CSAsite/posts/FRQ2015-Part3/) |\n",
    "| 2015 FRQ 4 | [Link](https://davidvasilev1.github.io/CSAsite/posts/FRQ2015-Part4/) |\n",
    "\n",
    "### Project Work\n",
    "\n",
    "So far I have contributed to the user database, LSTM model, and frontend design. I have also organized the team within the scrumboard, where all of our work is documented.\n",
    "\n",
    "![Image](https://github.com/CSA-AI/archived-frontend/assets/111480448/ddbf5c7b-e467-4463-b62d-3b10940ea8dc)"
   ]
  },
  {
   "cell_type": "markdown",
   "metadata": {},
   "source": [
    "### Debugging\n",
    "\n",
    "![image](https://github.com/DavidVasilev1/CSAsite/assets/111480448/65dd00ff-a141-4035-bb89-6eaaa3de4a4d)\n",
    "\n",
    "![image](https://github.com/DavidVasilev1/CSAsite/assets/111480448/0a176695-6879-497c-90f9-be9f7e55b3b4)\n",
    "\n",
    "![image](https://github.com/CSA-AI/CSA_AI/assets/111480448/bf7c4acd-a2e6-4369-aa0a-30c5f12d324e)\n"
   ]
  }
 ],
 "metadata": {
  "language_info": {
   "name": "python"
  }
 },
 "nbformat": 4,
 "nbformat_minor": 2
}

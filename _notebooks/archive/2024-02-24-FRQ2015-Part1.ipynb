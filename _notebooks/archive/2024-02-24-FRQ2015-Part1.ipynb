{
 "cells": [
  {
   "cell_type": "markdown",
   "metadata": {},
   "source": [
    "---\n",
    "- title: 2015 FRQ Question 1\n",
    "- author: david\n",
    "- categories: [Lab Notebook]\n",
    "- tags: [Java, Collegeboard]\n",
    "- type: tangibles\n",
    "- week: 21\n",
    "- description: Question 1 on the 2015 FRQ\n",
    "- toc: True\n",
    "- comments: True\n",
    "- date: 2024-02-24 12:00:00 +0000\n",
    "---"
   ]
  },
  {
   "cell_type": "markdown",
   "metadata": {},
   "source": [
    "## Part A\n",
    "\n",
    "![](/assets/img/post_images/2015-1a.png)"
   ]
  },
  {
   "cell_type": "markdown",
   "metadata": {},
   "source": [
    "All I did for this question was iterate through the array using a for loop, one integer at a time, adding each integer to the sum variable, ultimately getting the sum of the array."
   ]
  },
  {
   "cell_type": "code",
   "execution_count": 19,
   "metadata": {},
   "outputs": [
    {
     "name": "stdout",
     "output_type": "stream",
     "text": [
      "Sum: 16\n"
     ]
    }
   ],
   "source": [
    "class DiverseArray { // class mentioned in FRQ\n",
    "    public static int arraySum(int[] arr) {\n",
    "        int sum = 0; // setting sum equal to 0 so that it only counts for this array\n",
    "        for (int i = 0; i < arr.length; i++) { // iterating through array, on integer at a time\n",
    "            sum += arr[i]; // adding the value of each index to the sum of the array\n",
    "        }\n",
    "        return sum; // returning the array for printing\n",
    "    }\n",
    "}\n",
    "\n",
    "\n",
    "int[] arr1 = {1, 3, 2, 7, 3}; // array mentioned in FRQ\n",
    "System.out.println(\"Sum: \" + DiverseArray.arraySum(arr1)); // printing array"
   ]
  },
  {
   "cell_type": "markdown",
   "metadata": {},
   "source": [
    "## Part B\n",
    "\n",
    "![](/assets/img/post_images/2015-1b.png)"
   ]
  },
  {
   "cell_type": "markdown",
   "metadata": {},
   "source": [
    "For this question I reused the `arraySum` method from the previous part to help me in finding the individual sums of the rows of the matrix. I then made the `rowSums` method by initializing an array that would contain all of the sums and then I iterated through each row of the matrix, running the `arraySum` method on each row to get the sums. These sums are stored in the `rowSums` array, which when printed by itself prints in hexadecimal, showing the hashcode of the array object because of the way ipynbs work. To fix this, I iterated through each value in the `rowSums` array to print the values obtained."
   ]
  },
  {
   "cell_type": "code",
   "execution_count": 43,
   "metadata": {},
   "outputs": [
    {
     "name": "stdout",
     "output_type": "stream",
     "text": [
      "Row Sums: [I@3f8ce8c\n",
      "Row 0 Sum: 16\n",
      "Row 1 Sum: 32\n",
      "Row 2 Sum: 28\n",
      "Row 3 Sum: 20\n"
     ]
    }
   ],
   "source": [
    "class DiverseArray { // class mentioned in FRQ\n",
    "    public static int arraySum(int[] arr) { // same method as previous part reused\n",
    "        int sum = 0;\n",
    "        for (int i = 0; i < arr.length; i++) {\n",
    "            sum += arr[i];\n",
    "        }\n",
    "        return sum;\n",
    "    }\n",
    "\n",
    "    public static int[] rowSums (int[][] arr2D) { // new rowSum method\n",
    "        int [] rowSums = new int[arr2D.length]; // initializing the array for the row sums\n",
    "        for (int j = 0; j < arr2D.length; j++) { // for loop going through each array to find the sum\n",
    "            rowSums[j] = arraySum(arr2D[j]); // placing the resulting sum from the arraySum method into the rowSums array\n",
    "        }\n",
    "        return rowSums; // returning array of values for the rowSums\n",
    "    }\n",
    "}\n",
    "\n",
    "int[][] mat1 = { {1, 3, 2, 7, 3}, {10, 10, 4, 6, 2}, {5, 3, 5, 9, 6}, {7, 6, 4, 2, 1} }; // example matrix from frq\n",
    "int [] rowSumsJava = DiverseArray.rowSums(mat1);\n",
    "System.out.println(\"Row Sums: \" + rowSumsJava); // printing out array, printed bad because of ipynb\n",
    "for (int k = 0; k < rowSumsJava.length; k++) { // fixed by iterating through each value in the row and printing out\n",
    "    System.out.println(\"Row \" + k + \" Sum: \" + rowSumsJava[k]);\n",
    "}"
   ]
  },
  {
   "cell_type": "markdown",
   "metadata": {},
   "source": [
    "## Part C\n",
    "\n",
    "![](/assets/img/post_images/2015-1c.png)"
   ]
  },
  {
   "cell_type": "markdown",
   "metadata": {},
   "source": [
    "In this part of the question, I made a method that creates an array of all the sums of each row in the matrix. I then used two for loops to look through the the array, the first looking at one value and the second looking at all other values in the array to compare and see if there are any values that are ever the same. The method returns false if two equal values are found and true if no equal values are found. I printed the data in a similar way to before, because the ipynb kernel prints the data in hexadecimal."
   ]
  },
  {
   "cell_type": "code",
   "execution_count": 42,
   "metadata": {},
   "outputs": [
    {
     "name": "stdout",
     "output_type": "stream",
     "text": [
      "Row 0 Sum: 16\n",
      "Row 1 Sum: 32\n",
      "Row 2 Sum: 28\n",
      "Row 3 Sum: 20\n",
      "Array 1 Diversity: true\n",
      "Row 0 Sum: 14\n",
      "Row 1 Sum: 35\n",
      "Row 2 Sum: 36\n",
      "Row 3 Sum: 14\n",
      "Array 2 Diversity: false\n"
     ]
    }
   ],
   "source": [
    "class DiverseArray { // class mentioned in FRQ\n",
    "    public static int arraySum(int[] arr) { \n",
    "        int sum = 0;\n",
    "        for (int i = 0; i < arr.length; i++) {\n",
    "            sum += arr[i];\n",
    "        }\n",
    "        return sum;\n",
    "    }\n",
    "\n",
    "    public static int[] rowSums (int[][] arr2D) { // same method as previous part reused\n",
    "        int [] rowSums = new int[arr2D.length];\n",
    "        for (int j = 0; j < arr2D.length; j++) {\n",
    "            rowSums[j] = arraySum(arr2D[j]);\n",
    "        }\n",
    "        return rowSums;\n",
    "    }\n",
    "\n",
    "    public static boolean isDiverse(int[][] arr2D) { // new isDiverse method\n",
    "        int[] sums = rowSums(arr2D); // makes array of the row sums from the matrix\n",
    "        for (int k = 0; k < sums.length; k++) { // iterates through each value of the sums array\n",
    "            for (int l = k + 1; l < sums.length; l++) { // looks through each other value to the current value it's on\n",
    "                if (sums[k] == sums[l]) { // compares the two \n",
    "                    return false; // when the condition is false\n",
    "                }\n",
    "            }\n",
    "        }\n",
    "        return true; // if no values are equal, return true\n",
    "    }\n",
    "}\n",
    "\n",
    "int[][] mat1 = { {1, 3, 2, 7, 3}, {10, 10, 4, 6, 2}, {5, 3, 5, 9, 6}, {7, 6, 4, 2, 1} }; // matrix that would return true\n",
    "int[][] mat2 = { {1, 1, 5, 3, 4}, {12, 7, 6, 1, 9}, {8, 11, 10, 2, 5}, {3, 2, 3, 0, 6} }; // matrix that would return false\n",
    "\n",
    "// printing out all data as before\n",
    "int [] rowSumsJava1 = DiverseArray.rowSums(mat1);\n",
    "for (int m = 0; m < rowSumsJava1.length; m++) {\n",
    "    System.out.println(\"Row \" + m + \" Sum: \" + rowSumsJava1[m]);\n",
    "}\n",
    "System.out.println(\"Array 1 Diversity: \" + DiverseArray.isDiverse(mat1));\n",
    "int [] rowSumsJava2 = DiverseArray.rowSums(mat2);\n",
    "for (int n = 0; n < rowSumsJava2.length; n++) {\n",
    "    System.out.println(\"Row \" + n + \" Sum: \" + rowSumsJava2[n]);\n",
    "}\n",
    "System.out.println(\"Array 2 Diversity: \" + DiverseArray.isDiverse(mat2));"
   ]
  }
 ],
 "metadata": {
  "kernelspec": {
   "display_name": "Java",
   "language": "java",
   "name": "java"
  },
  "language_info": {
   "codemirror_mode": "java",
   "file_extension": ".jshell",
   "mimetype": "text/x-java-source",
   "name": "java",
   "pygments_lexer": "java",
   "version": "17.0.9+9-Ubuntu-120.04"
  }
 },
 "nbformat": 4,
 "nbformat_minor": 2
}

{
 "cells": [
  {
   "cell_type": "markdown",
   "metadata": {},
   "source": [
    "---\n",
    "- title: Primitive Types vs Reference Types\n",
    "- author: david\n",
    "- categories: [Lab Notebook]\n",
    "- tags: [Java, Collegeboard]\n",
    "- type: tangibles\n",
    "- week: 28\n",
    "- description: practice frqs\n",
    "- toc: True\n",
    "- comments: True\n",
    "- date: 2024-03-19 12:00:00 +0000\n",
    "---"
   ]
  },
  {
   "cell_type": "markdown",
   "metadata": {},
   "source": [
    "## Question 1: Primitive Types vs Reference Types (Unit 1)\n",
    "\n",
    "Situation: You are developing a banking application where you need to represent customer information. You have decided to use both primitive types and reference types for this purpose.\n",
    "\n",
    "(a) Define primitive types and reference types in Java. Provide examples of each.\n",
    "\n",
    "(b) Explain the differences between primitive types and reference types in terms of memory allocation and usage in Java programs.\n",
    "\n",
    "(c) Code:\n",
    "\n",
    "You have a method calculateInterest that takes a primitive double type representing the principal amount and a reference type Customer representing the customer information. Write the method signature and the method implementation. Include comments to explain your code."
   ]
  },
  {
   "cell_type": "markdown",
   "metadata": {},
   "source": [
    "### Answer\n",
    "\n",
    "**A:** \n",
    "These are basic data types that store single values in Java. They are predefined by the language (not objects). Examples: `int`, `double`, `boolean`, `char`"
   ]
  },
  {
   "cell_type": "code",
   "execution_count": null,
   "metadata": {},
   "outputs": [],
   "source": [
    "int num = 25;\n",
    "double decimal = 1000.50;\n",
    "boolean bool = true;\n",
    "char character = 'M';"
   ]
  },
  {
   "cell_type": "markdown",
   "metadata": {},
   "source": [
    "Reference types are instances of classes, interfaces, arrays, and enumerations. Examples: `String`, `Class`, `ArrayList`"
   ]
  },
  {
   "cell_type": "code",
   "execution_count": null,
   "metadata": {},
   "outputs": [],
   "source": [
    "String name = \"John\";\n",
    "Class class = new Class();\n",
    "ArrayList<Integer> nums = new ArrayList<>();"
   ]
  },
  {
   "cell_type": "markdown",
   "metadata": {},
   "source": [
    "**B:**\n",
    "Memory:\n",
    "- primitives are stored directly in stack memory, each var has it's own space\n",
    "- references are stored in heap, where only the reference is stored in stack memory\n",
    "Usage:\n",
    "- primitives hold the actual values of something\n",
    "- references hold the references to a object (like an address to the data), where methods and attributes access them"
   ]
  },
  {
   "cell_type": "markdown",
   "metadata": {},
   "source": [
    "**C:**"
   ]
  },
  {
   "cell_type": "code",
   "execution_count": 1,
   "metadata": {},
   "outputs": [
    {
     "name": "stdout",
     "output_type": "stream",
     "text": [
      "Interest: 50.0\n"
     ]
    }
   ],
   "source": [
    "class Customer {\n",
    "    private double interestRate;\n",
    "\n",
    "    public Customer(double interestRate) {\n",
    "        this.interestRate = interestRate;\n",
    "    }\n",
    "\n",
    "    public double getInterestRate() {\n",
    "        return interestRate;\n",
    "    }\n",
    "}\n",
    "\n",
    "public class Bank {\n",
    "    // method signature\n",
    "    public double calculateInterest(double principal, Customer customer) {\n",
    "        double interestRate = customer.getInterestRate(); // gets the interest rate of the customer\n",
    "        double interest = principal * interestRate; // primitive for storing data\n",
    "        return interest;\n",
    "    }\n",
    "\n",
    "    public static void main(String[] args) {\n",
    "        Customer customer = new Customer(0.05);\n",
    "\n",
    "        double principal = 1000.0;\n",
    "        Bank bank = new Bank();\n",
    "        double interest = bank.calculateInterest(principal, customer);\n",
    "        \n",
    "        System.out.println(\"Interest: \" + interest);\n",
    "    }\n",
    "}\n",
    "\n",
    "Bank.main(null);"
   ]
  },
  {
   "cell_type": "markdown",
   "metadata": {},
   "source": [
    "## Question 2: Iteration over 2D arrays (Unit 4)\n",
    "Situation: You are developing a game where you need to track player scores on a 2D grid representing levels and attempts.\n",
    "\n",
    "(a) Explain the concept of iteration over a 2D array in Java. Provide an example scenario where iterating over a 2D array is useful in a programming task.\n",
    "\n",
    "(b) Code:\n",
    "\n",
    "You need to implement a method calculateTotalScore that takes a 2D array scores of integers representing player scores and returns the sum of all the elements in the array. Write the method signature and the method implementation. Include comments to explain your code."
   ]
  },
  {
   "cell_type": "markdown",
   "metadata": {},
   "source": [
    "### Answer\n",
    "\n",
    "**A:**\n",
    "Iterating over an array is where you have to go through each element in the 2D array, row by row and column by column, retrieving the values for later use. This is done by nested loops, one loop iterating through each of the rows while the other iterating through each value within the rows.\n",
    "\n",
    "One example in which 2D array iteration can be useful is in reading out stock data, which involves rows, which contain the information about the stock at a specific time, and the columns, which are each a unique attribute to the stock. Overall, being able to traverse this 2D array would allow you to store and pull out needed information about the stocks."
   ]
  },
  {
   "cell_type": "markdown",
   "metadata": {},
   "source": [
    "**B:**\n"
   ]
  },
  {
   "cell_type": "code",
   "execution_count": 3,
   "metadata": {},
   "outputs": [
    {
     "name": "stdout",
     "output_type": "stream",
     "text": [
      "Total Score: 143\n"
     ]
    }
   ],
   "source": [
    "public class Game {\n",
    "    // method used to calculate the total score from the 2d array\n",
    "    public int calculateTotalScore(int[][] scores) {\n",
    "        // total score\n",
    "        int totalScore = 0;\n",
    "\n",
    "        // going thru each row\n",
    "        for (int i = 0; i < scores.length; i++) {\n",
    "            // going thru each column in each row\n",
    "            for (int j = 0; j < scores[i].length; j++) {\n",
    "                // adding up the scores\n",
    "                totalScore += scores[i][j];\n",
    "            }\n",
    "        }\n",
    "\n",
    "        return totalScore;\n",
    "    }\n",
    "\n",
    "    public static void main(String[] args) {\n",
    "        // example\n",
    "        int[][] scores = {\n",
    "            {10, 20, 30},\n",
    "            {5, 15, 25},\n",
    "            {8, 12, 18}\n",
    "        };\n",
    "\n",
    "        // create new game intance\n",
    "        Game game = new Game();\n",
    "\n",
    "        // running the calculate score method\n",
    "        int totalScore = game.calculateTotalScore(scores);\n",
    "        System.out.println(\"Total Score: \" + totalScore);\n",
    "    }\n",
    "}\n",
    "\n",
    "Game.main(null);"
   ]
  },
  {
   "cell_type": "markdown",
   "metadata": {},
   "source": [
    "## Question 5: If, While, Else (Unit 3-4)\n",
    "Situation: You are developing a simple grading system where you need to determine if a given score is passing or failing.\n",
    "\n",
    "(a) Explain the roles and usage of the if statement, while loop, and else statement in Java programming. Provide examples illustrating each.\n",
    "\n",
    "(b) Code:\n",
    "\n",
    "You need to implement a method printGradeStatus that takes an integer score as input and prints “Pass” if the score is greater than or equal to 60, and “Fail” otherwise. Write the method signature and the method implementation. Include comments to explain your code."
   ]
  },
  {
   "cell_type": "markdown",
   "metadata": {},
   "source": [
    "### Answer\n",
    "\n",
    "**A:**\n",
    "If Statements: this is used when a specific decision needs to be made based on certain conditions\n",
    "- evaluates boolean expression and based on that executes specific code based on if the condition is true\n",
    "- if condition is false, code isn't executed"
   ]
  },
  {
   "cell_type": "code",
   "execution_count": null,
   "metadata": {},
   "outputs": [],
   "source": [
    "int x = 10;\n",
    "if (x > 5) {\n",
    "    System.out.println(\"x is greater than 5\");\n",
    "}"
   ]
  },
  {
   "cell_type": "markdown",
   "metadata": {},
   "source": [
    "While Loop: repeatedly repeating over a block of code as long as a specific condition remains true\n",
    "- loops if the condition is true\n",
    "- stops if the condition is false"
   ]
  },
  {
   "cell_type": "code",
   "execution_count": null,
   "metadata": {},
   "outputs": [],
   "source": [
    "int i = 0;\n",
    "while (i < 5) {\n",
    "    System.out.println(i);\n",
    "    i++;\n",
    "}"
   ]
  },
  {
   "cell_type": "markdown",
   "metadata": {},
   "source": [
    "Else Statement: this is used with if statements, where a alternate condition is looked for in order to see if there is another action that can be performed in the case that the first condition is not met"
   ]
  },
  {
   "cell_type": "code",
   "execution_count": null,
   "metadata": {},
   "outputs": [],
   "source": [
    "int x = 10;\n",
    "if (x > 15) {\n",
    "    System.out.println(\"x is greater than 15\");\n",
    "} else {\n",
    "    System.out.println(\"x is not greater than 15\");\n",
    "}"
   ]
  },
  {
   "cell_type": "markdown",
   "metadata": {},
   "source": [
    "**B:**"
   ]
  },
  {
   "cell_type": "code",
   "execution_count": 4,
   "metadata": {},
   "outputs": [
    {
     "name": "stdout",
     "output_type": "stream",
     "text": [
      "Pass, score: 75\n",
      "Fail, score: 40\n"
     ]
    }
   ],
   "source": [
    "public class GradingSystem {\n",
    "    // prints grade based on score\n",
    "    public void printGradeStatus(int score) {\n",
    "        // checks if score is greater than or equal to 60\n",
    "        if (score >= 60) {\n",
    "            System.out.println(\"Pass, score: \" + score); // passes if condition is met\n",
    "        } else {\n",
    "            System.out.println(\"Fail, score: \" + score); // fails if condition is not met\n",
    "        }\n",
    "    }\n",
    "\n",
    "    public static void main(String[] args) {\n",
    "        // instance of grade system\n",
    "        GradingSystem gradingSystem = new GradingSystem();\n",
    "\n",
    "        gradingSystem.printGradeStatus(75);\n",
    "        gradingSystem.printGradeStatus(40);\n",
    "    }\n",
    "}\n",
    "\n",
    "GradingSystem.main(null);"
   ]
  },
  {
   "cell_type": "code",
   "execution_count": 5,
   "metadata": {},
   "outputs": [
    {
     "name": "stdout",
     "output_type": "stream",
     "text": [
      "Enter the score (or enter -1 to exit): \n",
      "Fail, score: 45\n",
      "Enter the score (or enter -1 to exit): \n",
      "Pass, score: 80\n",
      "Enter the score (or enter -1 to exit): \n",
      "Exiting the grading system...\n"
     ]
    }
   ],
   "source": [
    "import java.util.Scanner;\n",
    "\n",
    "public class GradingSystem2 {\n",
    "    // prints grade based on score\n",
    "    public void printGradeStatus(int score) {\n",
    "        // checks if score is greater than or equal to 60\n",
    "        if (score >= 60) {\n",
    "            System.out.println(\"Pass, score: \" + score); // passes if condition is met\n",
    "        } else {\n",
    "            System.out.println(\"Fail, score: \" + score); // fails if condition is not met\n",
    "        }\n",
    "    }\n",
    "\n",
    "    public static void main(String[] args) {\n",
    "        Scanner scanner = new Scanner(System.in);\n",
    "\n",
    "        // instance of grade system\n",
    "        GradingSystem gradingSystem = new GradingSystem();\n",
    "\n",
    "        // implementation of while loop\n",
    "        while (true) {\n",
    "            System.out.println(\"Enter the score (or enter -1 to exit): \");\n",
    "            int score = scanner.nextInt();\n",
    "\n",
    "            // check if want to exit\n",
    "            if (score == -1) {\n",
    "                System.out.println(\"Exiting the grading system...\");\n",
    "                break;\n",
    "            }\n",
    "\n",
    "            gradingSystem.printGradeStatus(score); // print score\n",
    "        }\n",
    "\n",
    "        scanner.close();\n",
    "    }\n",
    "}\n",
    "\n",
    "GradingSystem2.main(null);"
   ]
  }
 ],
 "metadata": {
  "kernelspec": {
   "display_name": "Java",
   "language": "java",
   "name": "java"
  },
  "language_info": {
   "codemirror_mode": "java",
   "file_extension": ".jshell",
   "mimetype": "text/x-java-source",
   "name": "java",
   "pygments_lexer": "java",
   "version": "11.0.22+7-post-Ubuntu-0ubuntu222.04.1"
  }
 },
 "nbformat": 4,
 "nbformat_minor": 2
}

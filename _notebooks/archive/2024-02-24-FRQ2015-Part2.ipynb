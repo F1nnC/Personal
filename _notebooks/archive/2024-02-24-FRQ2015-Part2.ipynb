{
 "cells": [
  {
   "cell_type": "markdown",
   "metadata": {},
   "source": [
    "---\n",
    "- title: 2015 FRQ Question 2\n",
    "- author: david\n",
    "- categories: [Lab Notebook]\n",
    "- tags: [Java, Collegeboard]\n",
    "- type: tangibles\n",
    "- week: 21\n",
    "- description: Question 2 on the 2015 FRQ\n",
    "- toc: True\n",
    "- comments: True\n",
    "- date: 2024-02-24 12:00:00 +0000\n",
    "---"
   ]
  },
  {
   "cell_type": "markdown",
   "metadata": {},
   "source": [
    "![](/assets/img/post_images/2015-2.png)"
   ]
  },
  {
   "cell_type": "markdown",
   "metadata": {},
   "source": [
    "With this FRQ, I realized that this could be made into a game. While I did complete the required tasks, I also added some features so that it could become a playable game, such as a random word generator from RapidAPI and also recurrence so that the user can continually play it until they guess the word. The responses are recorded in order for the user to see their progress towards the correct guess. I decided to make this game by first completing the original task, where I had to display a hint based on the words that were given vs the actual answer. I did this in the `getHint` method, where I check if the letters in the word match with the letters of the guessed word. There are three conditions, one where the placement is correct, one where the placement is off but the letter exists, and one where neither the placement or the letter is correct. I do this by iterating through each letter in the guessed word with a for loop and checking them against the actual word. I also make a `containChar` method which is used to check if the character is actually contained in the word at any place. I also added a fetch method, which uses code from RapidAPI and a transform method, which changes the JSON from the API into a string that can be used in the game."
   ]
  },
  {
   "cell_type": "code",
   "execution_count": 1,
   "metadata": {
    "vscode": {
     "languageId": "java"
    }
   },
   "outputs": [
    {
     "name": "stdout",
     "output_type": "stream",
     "text": [
      "{\"word\":\"attitudinising\"}\n",
      "\n",
      "Guess the word: **************\n",
      "Enter your guess: \n",
      "You guessed: daniel\n",
      "Hint: +++i**********\n",
      "Enter your guess: \n",
      "You guessed: atitude\n",
      "Hint: at++++********\n",
      "Enter your guess: \n",
      "You guessed: atitude\n",
      "Hint: at++++********\n",
      "Enter your guess: \n",
      "You guessed: atitudes\n",
      "Hint: at++++*+******\n",
      "Enter your guess: \n",
      "You guessed: attitudinsing\n",
      "Hint: attitudin++++*\n",
      "Enter your guess: \n",
      "You guessed 'attitudinising' correctly in 6 attempts.\n"
     ]
    }
   ],
   "source": [
    "import java.util.Scanner;\n",
    "import java.net.URI;\n",
    "import java.net.http.HttpClient;\n",
    "import java.net.http.HttpRequest;\n",
    "import java.net.http.HttpResponse;\n",
    "\n",
    "class HiddenWord {\n",
    "    private String randWord; // creating private variable for the random word to be fetched\n",
    "\n",
    "    public HiddenWord(String solution) {\n",
    "        this.randWord = solution; // setting this word uniquely to the instance\n",
    "    }\n",
    "\n",
    "    public static String fetchRandomWord() throws Exception { // fetching the random words using rapidAPI\n",
    "        HttpRequest request = HttpRequest.newBuilder()\n",
    "            .uri(URI.create(\"https://random-word-api.p.rapidapi.com/get_word\"))\n",
    "            .header(\"X-RapidAPI-Key\", \"701410bf7emshbaf1fa99b2e4e5bp1c0ee6jsn8f8f51602e3f\")\n",
    "            .header(\"X-RapidAPI-Host\", \"random-word-api.p.rapidapi.com\")\n",
    "            .method(\"GET\", HttpRequest.BodyPublishers.noBody())\n",
    "            .build();\n",
    "        HttpResponse<String> response = HttpClient.newHttpClient().send(request, HttpResponse.BodyHandlers.ofString());\n",
    "        System.out.println(response.body());\n",
    "        return response.body(); // returning JSON response\n",
    "    }\n",
    "\n",
    "    public static String transformRandomWord() throws Exception { // formatting the word from json into a string\n",
    "        String jsonString = fetchRandomWord(); // fetching the random word\n",
    "        int index = jsonString.indexOf(\"\\\"word\\\"\") + \"\\\"word\\\"\".length() + 2; // removing the \"word\" portion of the JSON\n",
    "        int endIndex = jsonString.indexOf(\"\\\"\", index); // removing everything after the actual word in the JSON\n",
    "        String solution = jsonString.substring(index, endIndex); // setting the word as the variable for the specific word in the instance\n",
    "        return solution;\n",
    "    }\n",
    "\n",
    "    public boolean containChar(char letter) { // checking if the letter guessed is contained in the word\n",
    "        for (int j = 0; j < this.randWord.length(); j++) { // looking through the random word that was pulled from the API\n",
    "            if (letter == this.randWord.charAt(j)) { // comparing the letter from the guessed word to all the other words in the random word\n",
    "                return true; // returns true of the letter exists\n",
    "            }\n",
    "        }\n",
    "        return false;\n",
    "    }\n",
    "\n",
    "    public String getHint(String guess) { // method for getting the hint based on the word guessed\n",
    "        while (guess.length() < randWord.length()) { // adds in fillers if the word guessed is less than the actual word length\n",
    "            guess += \"*\";\n",
    "        }\n",
    "        \n",
    "        String hint = \"\"; // sets what the hint will be\n",
    "        for (int i = 0; i < randWord.length(); i++) { // looking through the random word one letter at a time\n",
    "            char guessChar = guess.charAt(i); // matching up the index of the letters for both the guessed and solution words\n",
    "            if (guessChar == randWord.charAt(i)) { // checks to see if they equal\n",
    "                hint += guessChar; // if they do, the letter is set\n",
    "            } else if (randWord.indexOf(guessChar) != -1) { // check to see if any letters match\n",
    "                hint += \"+\"; // if theyre not in the right place, this symbol is placed\n",
    "            } else {\n",
    "                hint += \"*\"; // if no letters match\n",
    "            }\n",
    "        }\n",
    "        return hint; // returns the hint\n",
    "    }\n",
    "\n",
    "    public static void main(String[] args) {\n",
    "        try { // user for error handling\n",
    "            String solution = transformRandomWord(); // the solution is generated\n",
    "            HiddenWord game = new HiddenWord(solution); // creates a game instance\n",
    "            Scanner scanner = new Scanner(System.in); // starts a scanner instance for user input\n",
    "            int attempts = 0; // counting the attempts\n",
    "            String initialHint = \"*\".repeat(solution.length()); // starts with the initial hint to show the length of the word\n",
    "            System.out.println(\"Guess the word: \" + initialHint); // asks for a guess\n",
    "            \n",
    "            while (true) { // loops forever\n",
    "                attempts++; // adds in attempts\n",
    "                System.out.println(\"Enter your guess: \"); // asks for a guess\n",
    "                String guess = scanner.nextLine();\n",
    "                if (guess.equals(solution)) { // if the word is guessed\n",
    "                    System.out.println(\"You guessed '\" + solution + \"' correctly in \" + attempts + \" attempts.\");\n",
    "                    break; // stops the code from continuing\n",
    "                } else { // continues game\n",
    "                    String hint = game.getHint(guess); // prints the guess and hint\n",
    "                    System.out.println(\"You guessed: \" + guess);\n",
    "                    System.out.println(\"Hint: \" + hint);\n",
    "                }\n",
    "            }\n",
    "            \n",
    "            scanner.close();\n",
    "        } catch (Exception e) { // use for error handling\n",
    "            e.printStackTrace();\n",
    "        }\n",
    "    }\n",
    "}\n",
    "\n",
    "HiddenWord.main(null);"
   ]
  }
 ],
 "metadata": {
  "kernelspec": {
   "display_name": "Java",
   "language": "java",
   "name": "java"
  },
  "language_info": {
   "codemirror_mode": "java",
   "file_extension": ".jshell",
   "mimetype": "text/x-java-source",
   "name": "Java",
   "pygments_lexer": "java",
   "version": "17.0.9+9-Ubuntu-120.04"
  }
 },
 "nbformat": 4,
 "nbformat_minor": 2
}

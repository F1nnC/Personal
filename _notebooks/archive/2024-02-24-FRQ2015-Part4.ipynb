{
 "cells": [
  {
   "cell_type": "markdown",
   "metadata": {},
   "source": [
    "---\n",
    "- title: 2015 FRQ Question 4\n",
    "- author: david\n",
    "- categories: [Lab Notebook]\n",
    "- tags: [Java, Collegeboard]\n",
    "- type: tangibles\n",
    "- week: 21\n",
    "- description: Question 4 on the 2015 FRQ\n",
    "- toc: True\n",
    "- comments: True\n",
    "- date: 2024-02-24 12:00:00 +0000\n",
    "---"
   ]
  },
  {
   "cell_type": "markdown",
   "metadata": {},
   "source": [
    "## Part A\n",
    "\n",
    "![](/assets/img/post_images/2015-4a.png)"
   ]
  },
  {
   "cell_type": "markdown",
   "metadata": {},
   "source": [
    "This is all the question asked for, to create an interface which contains a method that returns true or false on whether a number exists or not."
   ]
  },
  {
   "cell_type": "code",
   "execution_count": null,
   "metadata": {
    "vscode": {
     "languageId": "java"
    }
   },
   "outputs": [],
   "source": [
    "public interface NumberGroup {\n",
    "    public boolean contains(int num); // single method\n",
    "}"
   ]
  },
  {
   "cell_type": "markdown",
   "metadata": {},
   "source": [
    "## Part B\n",
    "\n",
    "![](/assets/img/post_images/2015-4b.png)"
   ]
  },
  {
   "cell_type": "markdown",
   "metadata": {},
   "source": [
    "Here, I just created a class that checks to see if the numbers I am testing are within the range I defined. I do this by defining a minimum and maximum number within the instance and then I choose to test specific numbers within that range, using a contains method that I overrode in order to not include the previous interface I created. This new one is basically the same one, where it only returns true if the number is within the range (between min and max)."
   ]
  },
  {
   "cell_type": "code",
   "execution_count": 8,
   "metadata": {
    "vscode": {
     "languageId": "java"
    }
   },
   "outputs": [
    {
     "name": "stdout",
     "output_type": "stream",
     "text": [
      "Testing 1: true\n",
      "Testing 10: false\n"
     ]
    }
   ],
   "source": [
    "public class Range implements NumberGroup {\n",
    "    private int min;\n",
    "    private int max;\n",
    "\n",
    "    public Range(int min, int max) {\n",
    "        this.min = min;\n",
    "        this.max = max;\n",
    "    }\n",
    "\n",
    "    @Override // overriding the method with a new one\n",
    "    public boolean contains(int num) {\n",
    "        return (num >= min && num <= max); // only returns true if num is greater than min or less than max (within range)\n",
    "    }\n",
    "\n",
    "    public static void main(String[] args) {\n",
    "        Range range = new Range(-3, 2);\n",
    "\n",
    "        System.out.println(\"Testing 1: \" + range.contains(1));\n",
    "        System.out.println(\"Testing 10: \" + range.contains(10));\n",
    "    }\n",
    "}\n",
    "\n",
    "Range.main(null);"
   ]
  },
  {
   "cell_type": "markdown",
   "metadata": {},
   "source": [
    "## Part C\n",
    "\n",
    "![](/assets/img/post_images/2015-4c.png)"
   ]
  },
  {
   "cell_type": "markdown",
   "metadata": {},
   "source": [
    "In this case, we use the `contains()` method again, however this time we look through multiple group lists. We do this be creating a new `contains()` method, which looks through the arraylist that contains all of the ranges we have defined. From there, we check to see if the number we have is within any of those ranges and return a true or false based on whether it is or isn't."
   ]
  },
  {
   "cell_type": "code",
   "execution_count": 16,
   "metadata": {
    "vscode": {
     "languageId": "java"
    }
   },
   "outputs": [
    {
     "name": "stdout",
     "output_type": "stream",
     "text": [
      "Testing 2: true\n",
      "Testing 9: false\n",
      "Testing 6: true\n"
     ]
    }
   ],
   "source": [
    "public class MultipleGroups implements NumberGroup {\n",
    "    private List<NumberGroup> groupList;\n",
    "\n",
    "    public MultipleGroups(List<NumberGroup> groupList) {\n",
    "        this.groupList = groupList;\n",
    "    }\n",
    "\n",
    "    @Override\n",
    "    public boolean contains(int num) { // new method to new \n",
    "        for (int i = 0; i < this.groupList.size(); i++) { // looks through each of the group lists\n",
    "            if (this.groupList.get(i).contains(num)) { // if the number happens to be in one of the group lists, true is returned\n",
    "                return true;\n",
    "            }\n",
    "        }\n",
    "        return false;\n",
    "    }\n",
    "\n",
    "    public static void main(String[] args) {\n",
    "        // creating multiple groups\n",
    "        Range r1 = new Range(5, 8);\n",
    "        Range r2 = new Range(10, 12);\n",
    "        Range r3 = new Range(1, 6);\n",
    "\n",
    "        // adding all the groups to a group list\n",
    "        ArrayList<NumberGroup> groupList = new ArrayList<>();\n",
    "        groupList.add(r1);\n",
    "        groupList.add(r2);\n",
    "        groupList.add(r3);\n",
    "\n",
    "        // creating a new instance of the group list\n",
    "        MultipleGroups multiple1 = new MultipleGroups(groupList);\n",
    "\n",
    "        // checking different cases to see if they are within the ranges provided\n",
    "        System.out.println(\"Testing 2: \" + multiple1.contains(2));\n",
    "        System.out.println(\"Testing 9: \" + multiple1.contains(9));\n",
    "        System.out.println(\"Testing 6: \" + multiple1.contains(6));\n",
    "    }\n",
    "}\n",
    "\n",
    "MultipleGroups.main(null);"
   ]
  }
 ],
 "metadata": {
  "kernelspec": {
   "display_name": "Java",
   "language": "java",
   "name": "java"
  },
  "language_info": {
   "codemirror_mode": "java",
   "file_extension": ".jshell",
   "mimetype": "text/x-java-source",
   "name": "Java",
   "pygments_lexer": "java",
   "version": "17.0.9+9-Ubuntu-120.04"
  }
 },
 "nbformat": 4,
 "nbformat_minor": 2
}

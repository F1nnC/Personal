{
 "cells": [
  {
   "cell_type": "markdown",
   "metadata": {},
   "source": [
    "---\n",
    "- title: Algorythmic Sorts\n",
    "- author: david\n",
    "- categories: [Lab Notebook]\n",
    "- tags: [Java]\n",
    "- type: tangibles\n",
    "- week: 29\n",
    "- description: The sorts documented from algorythmic\n",
    "- toc: True\n",
    "- comments: True\n",
    "- date: 2024-04-03 12:00:00 +0000\n",
    "---"
   ]
  },
  {
   "cell_type": "markdown",
   "metadata": {},
   "source": [
    "## Flower Class"
   ]
  },
  {
   "cell_type": "code",
   "execution_count": 49,
   "metadata": {
    "vscode": {
     "languageId": "java"
    }
   },
   "outputs": [],
   "source": [
    "import java.util.ArrayList;\n",
    "import java.util.List;\n",
    "\n",
    "public abstract class Collectable implements Comparable<Collectable> {\n",
    "    public final String masterType = \"Collectable\";\n",
    "    private String type; // extender should define their data type\n",
    "\n",
    "    // enumerated interface\n",
    "    public interface KeyTypes {\n",
    "        String name();\n",
    "    }\n",
    "\n",
    "    protected abstract KeyTypes getKey(); // this method helps force usage of KeyTypes\n",
    "\n",
    "    // getter\n",
    "    public String getMasterType() {\n",
    "        return masterType;\n",
    "    }\n",
    "\n",
    "    // getter\n",
    "    public String getType() {\n",
    "        return type;\n",
    "    }\n",
    "\n",
    "    // setter\n",
    "    public void setType(String type) {\n",
    "        this.type = type;\n",
    "    }\n",
    "\n",
    "    // this method is used to establish key order\n",
    "    public abstract String toString();\n",
    "\n",
    "    // this method is used to compare toString of objects\n",
    "    public int compareTo(Collectable obj) {\n",
    "        return this.toString().compareTo(obj.toString());\n",
    "    }\n",
    "\n",
    "    public static void print(Collectable[] objs) {\n",
    "        System.out.println(objs.getClass() + \" \" + objs.length);\n",
    "\n",
    "        if (objs.length > 0) {\n",
    "            Collectable obj = objs[0];\n",
    "            System.out.println(obj.getMasterType() + \": \" + obj.getType() + \" listed by \" + obj.getKey());\n",
    "        }\n",
    "\n",
    "        for (Object o : objs)\n",
    "            System.out.println(o);\n",
    "\n",
    "        System.out.println();\n",
    "    }\n",
    "}"
   ]
  },
  {
   "cell_type": "code",
   "execution_count": 50,
   "metadata": {
    "vscode": {
     "languageId": "java"
    }
   },
   "outputs": [],
   "source": [
    "public class Flower extends Collectable {\n",
    "    // class data\n",
    "    public static KeyTypes key = KeyType.breed; // static initializer\n",
    "    public static void setOrder(KeyTypes key) { Flower.key = key; }\n",
    "    public enum KeyType implements KeyTypes { breed, petals, color }\n",
    "\n",
    "    private final String breed;\n",
    "    private final int petals;\n",
    "    private final String color;\n",
    "\n",
    "    // constructor\n",
    "    Flower(String breed, int petals, String color) {\n",
    "        this.setType(\"Flower\");\n",
    "        this.breed = breed;\n",
    "        this.petals = petals;\n",
    "        this.color = color;\n",
    "    }\n",
    "\n",
    "    // can only be accessed within class\n",
    "    @Override\n",
    "    protected KeyTypes getKey() {\n",
    "        return Flower.key;\n",
    "    }\n",
    "\n",
    "    @Override\n",
    "    public String toString() {\n",
    "        StringBuilder jsonBuilder = new StringBuilder();\n",
    "        jsonBuilder.append(\"{\");\n",
    "\n",
    "        if (KeyType.breed.equals(this.getKey())) {\n",
    "            jsonBuilder.append(\"\\\"breed\\\": \\\"\").append(this.breed).append(\"\\\", \");\n",
    "        } else if (KeyType.petals.equals(this.getKey())) {\n",
    "            jsonBuilder.append(\"\\\"petals\\\": \").append(this.petals).append(\", \");\n",
    "        } else if (KeyType.color.equals(this.getKey())) {\n",
    "            jsonBuilder.append(\"\\\"color\\\": \\\"\").append(this.color).append(\"\\\", \");\n",
    "        }\n",
    "\n",
    "        jsonBuilder.append(\"\\\"type\\\": \\\"\").append(this.getType()).append(\"\\\", \")\n",
    "                .append(\"\\\"masterType\\\": \\\"\").append(this.masterType).append(\"\\\"\");\n",
    "\n",
    "        jsonBuilder.append(\"}\");\n",
    "        return jsonBuilder.toString();\n",
    "    }\n",
    "\n",
    "    public void bubbleSort(List<Collectable> list) {\n",
    "        int n = list.size();\n",
    "        // moving through all elements of the array\n",
    "        for (int i = 0; i < n - 1; i++) {\n",
    "            // the last element is in place so we start at the next one\n",
    "            for (int j = 0; j < n - i - 1; j++) {\n",
    "                // check and swap if the values are not sorted\n",
    "                if (list.get(j).compareTo(list.get(j + 1)) > 0) {\n",
    "                    Collectable temp = list.get(j);\n",
    "                    list.set(j, list.get(j + 1));\n",
    "                    list.set(j + 1, temp);\n",
    "                }\n",
    "            }\n",
    "        }\n",
    "    }\n",
    "\n",
    "    public void selectionSort(List<Collectable> list) {\n",
    "        int n = list.size();\n",
    "        // shifting boundary of unsorted array\n",
    "        for (int i = 0; i < n - 1; i++) {\n",
    "            // find minimum of the subarray\n",
    "            int minIndex = i;\n",
    "            for (int j = i + 1; j < n; j++) {\n",
    "                if (list.get(j).compareTo(list.get(minIndex)) < 0) {\n",
    "                    minIndex = j;\n",
    "                }\n",
    "            }\n",
    "            // swapping the minimum with the value at index i\n",
    "            Collectable temp = list.get(minIndex);\n",
    "            list.set(minIndex, list.get(i));\n",
    "            list.set(i, temp);\n",
    "        }\n",
    "    }\n",
    "\n",
    "    public void insertionSort(List<Collectable> list) {\n",
    "        int n = list.size();\n",
    "        // iterating through the array\n",
    "        for (int i = 1; i < n; ++i) {\n",
    "            // finding the key of the array\n",
    "            Collectable key = list.get(i);\n",
    "            // finding compare value\n",
    "            int j = i - 1;\n",
    "            // moving values that are before the key and greater than the key after the key\n",
    "            while (j >= 0 && list.get(j).compareTo(key) > 0) {\n",
    "                list.set(j + 1, list.get(j));\n",
    "                j--;\n",
    "            }\n",
    "            list.set(j + 1, key);\n",
    "        }\n",
    "    }\n",
    "\n",
    "    public void mergeSort(List<Collectable> list) {\n",
    "        if (list.size() > 1) {\n",
    "            int mid = list.size() / 2;\n",
    "            List<Collectable> left = new ArrayList<>(list.subList(0, mid)); // split array in halves\n",
    "            List<Collectable> right = new ArrayList<>(list.subList(mid, list.size()));\n",
    "    \n",
    "            mergeSort(left); // sort the left with recursion\n",
    "            mergeSort(right); // sort the right with recursion\n",
    "    \n",
    "            merge(list, left, right); // merge the sorted halves\n",
    "        }\n",
    "    }\n",
    "    \n",
    "    private void merge(List<Collectable> list, List<Collectable> left, List<Collectable> right) {\n",
    "        int i = 0, j = 0, k = 0;\n",
    "        // merging the left and right arrays\n",
    "        while (i < left.size() && j < right.size()) {\n",
    "            if (left.get(i).compareTo(right.get(j)) <= 0) {\n",
    "                list.set(k++, left.get(i++));\n",
    "            } else {\n",
    "                list.set(k++, right.get(j++));\n",
    "            }\n",
    "        }\n",
    "        // moving any remaining elements in the left array\n",
    "        while (i < left.size()) {\n",
    "            list.set(k++, left.get(i++));\n",
    "        }\n",
    "        // moving any remaining elements in the right array\n",
    "        while (j < right.size()) {\n",
    "            list.set(k++, right.get(j++));\n",
    "        }\n",
    "    }\n",
    "\n",
    "    public void quickSort(List<Collectable> list, int low, int high) {\n",
    "        if (low < high) {\n",
    "            // this is where the list is partitioned\n",
    "            int pi = partition(list, low, high);\n",
    "            // sorts the elements before and after the partition\n",
    "            quickSort(list, low, pi - 1);\n",
    "            quickSort(list, pi + 1, high);\n",
    "        }\n",
    "    }\n",
    "    \n",
    "    private int partition(List<Collectable> list, int low, int high) {\n",
    "        Collectable pivot = list.get(high); // pivot defined\n",
    "        int i = low - 1; // index of the smaller element\n",
    "        for (int j = low; j < high; j++) {\n",
    "            // if the element is smaller than the pivot, it is moved to the left\n",
    "            if (list.get(j).compareTo(pivot) < 0) {\n",
    "                i++;\n",
    "                // swapping the elements\n",
    "                Collectable temp = list.get(i);\n",
    "                list.set(i, list.get(j));\n",
    "                list.set(j, temp);\n",
    "            }\n",
    "        }\n",
    "        // swapping the pivot with the element at i + 1\n",
    "        Collectable temp = list.get(i + 1);\n",
    "        list.set(i + 1, list.get(high));\n",
    "        list.set(high, temp);\n",
    "        return i + 1;\n",
    "    }    \n",
    "}"
   ]
  },
  {
   "cell_type": "code",
   "execution_count": 51,
   "metadata": {
    "vscode": {
     "languageId": "java"
    }
   },
   "outputs": [
    {
     "data": {
      "text/plain": [
       "[{\"breed\": \"Lotus\", \"type\": \"Flower\", \"masterType\": \"Collectable\"}, {\"breed\": \"Camellia\", \"type\": \"Flower\", \"masterType\": \"Collectable\"}, {\"breed\": \"Ghost Orchid\", \"type\": \"Flower\", \"masterType\": \"Collectable\"}, {\"breed\": \"Chocolate Cosmos\", \"type\": \"Flower\", \"masterType\": \"Collectable\"}, {\"breed\": \"Corpse Flower\", \"type\": \"Flower\", \"masterType\": \"Collectable\"}, {\"breed\": \"Jade Vine\", \"type\": \"Flower\", \"masterType\": \"Collectable\"}, {\"breed\": \"Juliet Rose\", \"type\": \"Flower\", \"masterType\": \"Collectable\"}, {\"breed\": \"Pasqueflower\", \"type\": \"Flower\", \"masterType\": \"Collectable\"}, {\"breed\": \"Campion\", \"type\": \"Flower\", \"masterType\": \"Collectable\"}, {\"breed\": \"Franklin Tree\", \"type\": \"Flower\", \"masterType\": \"Collectable\"}]"
      ]
     },
     "execution_count": 51,
     "metadata": {},
     "output_type": "execute_result"
    }
   ],
   "source": [
    "import java.util.ArrayList;\n",
    "import java.util.List;\n",
    "\n",
    "public class CreateGarden {\n",
    "    // test data\n",
    "    public static List<Collectable> flowers() {\n",
    "        List<Collectable> flowerList = new ArrayList<>();\n",
    "        flowerList.add(new Flower(\"Lotus\", 5, \"White\"));\n",
    "        flowerList.add(new Flower(\"Camellia\", 3, \"Yellow\"));\n",
    "        flowerList.add(new Flower(\"Ghost Orchid\", 7, \"Grey\"));\n",
    "        flowerList.add(new Flower(\"Chocolate Cosmos\", 2, \"Brown\"));\n",
    "        flowerList.add(new Flower(\"Corpse Flower\", 4, \"Orange\"));\n",
    "        flowerList.add(new Flower(\"Jade Vine\", 9, \"Green\"));\n",
    "        flowerList.add(new Flower(\"Juliet Rose\", 6, \"Red\"));\n",
    "        flowerList.add(new Flower(\"Pasqueflower\", 8, \"Blue\"));\n",
    "        flowerList.add(new Flower(\"Campion\", 1, \"Pink\"));\n",
    "        flowerList.add(new Flower(\"Franklin Tree\", 9, \"Purple\"));\n",
    "        return flowerList;\n",
    "    }\n",
    "}\n",
    "\n",
    "CreateGarden.flowers();"
   ]
  },
  {
   "cell_type": "markdown",
   "metadata": {},
   "source": [
    "## Bubble Sort\n",
    "\n",
    "Here is my implementation of bubble sort:"
   ]
  },
  {
   "cell_type": "code",
   "execution_count": 57,
   "metadata": {
    "vscode": {
     "languageId": "java"
    }
   },
   "outputs": [
    {
     "name": "stdout",
     "output_type": "stream",
     "text": [
      "Original: [{\"breed\": \"Lotus\", \"type\": \"Flower\", \"masterType\": \"Collectable\"}, {\"breed\": \"Camellia\", \"type\": \"Flower\", \"masterType\": \"Collectable\"}, {\"breed\": \"Ghost Orchid\", \"type\": \"Flower\", \"masterType\": \"Collectable\"}, {\"breed\": \"Chocolate Cosmos\", \"type\": \"Flower\", \"masterType\": \"Collectable\"}, {\"breed\": \"Corpse Flower\", \"type\": \"Flower\", \"masterType\": \"Collectable\"}, {\"breed\": \"Jade Vine\", \"type\": \"Flower\", \"masterType\": \"Collectable\"}, {\"breed\": \"Juliet Rose\", \"type\": \"Flower\", \"masterType\": \"Collectable\"}, {\"breed\": \"Pasqueflower\", \"type\": \"Flower\", \"masterType\": \"Collectable\"}, {\"breed\": \"Campion\", \"type\": \"Flower\", \"masterType\": \"Collectable\"}, {\"breed\": \"Franklin Tree\", \"type\": \"Flower\", \"masterType\": \"Collectable\"}]\n",
      "Sorted by Breed: [{\"breed\": \"Camellia\", \"type\": \"Flower\", \"masterType\": \"Collectable\"}, {\"breed\": \"Campion\", \"type\": \"Flower\", \"masterType\": \"Collectable\"}, {\"breed\": \"Chocolate Cosmos\", \"type\": \"Flower\", \"masterType\": \"Collectable\"}, {\"breed\": \"Corpse Flower\", \"type\": \"Flower\", \"masterType\": \"Collectable\"}, {\"breed\": \"Franklin Tree\", \"type\": \"Flower\", \"masterType\": \"Collectable\"}, {\"breed\": \"Ghost Orchid\", \"type\": \"Flower\", \"masterType\": \"Collectable\"}, {\"breed\": \"Jade Vine\", \"type\": \"Flower\", \"masterType\": \"Collectable\"}, {\"breed\": \"Juliet Rose\", \"type\": \"Flower\", \"masterType\": \"Collectable\"}, {\"breed\": \"Lotus\", \"type\": \"Flower\", \"masterType\": \"Collectable\"}, {\"breed\": \"Pasqueflower\", \"type\": \"Flower\", \"masterType\": \"Collectable\"}]\n"
     ]
    },
    {
     "name": "stdout",
     "output_type": "stream",
     "text": [
      "Sorted by Petals: [{\"petals\": 1, \"type\": \"Flower\", \"masterType\": \"Collectable\"}, {\"petals\": 2, \"type\": \"Flower\", \"masterType\": \"Collectable\"}, {\"petals\": 3, \"type\": \"Flower\", \"masterType\": \"Collectable\"}, {\"petals\": 4, \"type\": \"Flower\", \"masterType\": \"Collectable\"}, {\"petals\": 5, \"type\": \"Flower\", \"masterType\": \"Collectable\"}, {\"petals\": 6, \"type\": \"Flower\", \"masterType\": \"Collectable\"}, {\"petals\": 7, \"type\": \"Flower\", \"masterType\": \"Collectable\"}, {\"petals\": 8, \"type\": \"Flower\", \"masterType\": \"Collectable\"}, {\"petals\": 9, \"type\": \"Flower\", \"masterType\": \"Collectable\"}, {\"petals\": 9, \"type\": \"Flower\", \"masterType\": \"Collectable\"}]\n",
      "Sorted by Color: [{\"color\": \"Blue\", \"type\": \"Flower\", \"masterType\": \"Collectable\"}, {\"color\": \"Brown\", \"type\": \"Flower\", \"masterType\": \"Collectable\"}, {\"color\": \"Green\", \"type\": \"Flower\", \"masterType\": \"Collectable\"}, {\"color\": \"Grey\", \"type\": \"Flower\", \"masterType\": \"Collectable\"}, {\"color\": \"Orange\", \"type\": \"Flower\", \"masterType\": \"Collectable\"}, {\"color\": \"Pink\", \"type\": \"Flower\", \"masterType\": \"Collectable\"}, {\"color\": \"Purple\", \"type\": \"Flower\", \"masterType\": \"Collectable\"}, {\"color\": \"Red\", \"type\": \"Flower\", \"masterType\": \"Collectable\"}, {\"color\": \"White\", \"type\": \"Flower\", \"masterType\": \"Collectable\"}, {\"color\": \"Yellow\", \"type\": \"Flower\", \"masterType\": \"Collectable\"}]\n"
     ]
    }
   ],
   "source": [
    "List<Collectable> flowerList = CreateGarden.flowers();\n",
    "Flower.setOrder(Flower.KeyType.breed);\n",
    "System.out.println(\"Original: \" + flowerList);\n",
    "\n",
    "// breed\n",
    "Flower flower = new Flower(\"\", 0, \"\");\n",
    "flower.bubbleSort(flowerList);\n",
    "System.out.println(\"Sorted by Breed: \" + flowerList);\n",
    "\n",
    "// petals\n",
    "Flower.setOrder(Flower.KeyType.petals);\n",
    "flower.bubbleSort(flowerList);\n",
    "System.out.println(\"Sorted by Petals: \" + flowerList);\n",
    "\n",
    "// color\n",
    "Flower.setOrder(Flower.KeyType.color);\n",
    "flower.bubbleSort(flowerList);\n",
    "System.out.println(\"Sorted by Color: \" + flowerList);"
   ]
  },
  {
   "cell_type": "markdown",
   "metadata": {},
   "source": [
    "With this sort, we essentially iterate through the list and compare the breeds that are next to each other and this goes on until the list is sorted."
   ]
  },
  {
   "cell_type": "markdown",
   "metadata": {},
   "source": [
    "## Selection Sort\n",
    "\n",
    "This is my implementation of selection sort:"
   ]
  },
  {
   "cell_type": "code",
   "execution_count": 41,
   "metadata": {
    "vscode": {
     "languageId": "java"
    }
   },
   "outputs": [
    {
     "name": "stdout",
     "output_type": "stream",
     "text": [
      "Original: [{\"breed\": \"Lotus\", \"type\": \"Flower\", \"masterType\": \"Collectable\"}, {\"breed\": \"Camellia\", \"type\": \"Flower\", \"masterType\": \"Collectable\"}, {\"breed\": \"Ghost Orchid\", \"type\": \"Flower\", \"masterType\": \"Collectable\"}, {\"breed\": \"Chocolate Cosmos\", \"type\": \"Flower\", \"masterType\": \"Collectable\"}, {\"breed\": \"Corpse Flower\", \"type\": \"Flower\", \"masterType\": \"Collectable\"}, {\"breed\": \"Jade Vine\", \"type\": \"Flower\", \"masterType\": \"Collectable\"}, {\"breed\": \"Juliet Rose\", \"type\": \"Flower\", \"masterType\": \"Collectable\"}, {\"breed\": \"Pasqueflower\", \"type\": \"Flower\", \"masterType\": \"Collectable\"}, {\"breed\": \"Campion\", \"type\": \"Flower\", \"masterType\": \"Collectable\"}, {\"breed\": \"Franklin Tree\", \"type\": \"Flower\", \"masterType\": \"Collectable\"}]\n"
     ]
    },
    {
     "name": "stdout",
     "output_type": "stream",
     "text": [
      "Sorted by Breed: [{\"breed\": \"Camellia\", \"type\": \"Flower\", \"masterType\": \"Collectable\"}, {\"breed\": \"Campion\", \"type\": \"Flower\", \"masterType\": \"Collectable\"}, {\"breed\": \"Chocolate Cosmos\", \"type\": \"Flower\", \"masterType\": \"Collectable\"}, {\"breed\": \"Corpse Flower\", \"type\": \"Flower\", \"masterType\": \"Collectable\"}, {\"breed\": \"Franklin Tree\", \"type\": \"Flower\", \"masterType\": \"Collectable\"}, {\"breed\": \"Ghost Orchid\", \"type\": \"Flower\", \"masterType\": \"Collectable\"}, {\"breed\": \"Jade Vine\", \"type\": \"Flower\", \"masterType\": \"Collectable\"}, {\"breed\": \"Juliet Rose\", \"type\": \"Flower\", \"masterType\": \"Collectable\"}, {\"breed\": \"Lotus\", \"type\": \"Flower\", \"masterType\": \"Collectable\"}, {\"breed\": \"Pasqueflower\", \"type\": \"Flower\", \"masterType\": \"Collectable\"}]\n",
      "Sorted by Petals: [{\"petals\": 1, \"type\": \"Flower\", \"masterType\": \"Collectable\"}, {\"petals\": 2, \"type\": \"Flower\", \"masterType\": \"Collectable\"}, {\"petals\": 3, \"type\": \"Flower\", \"masterType\": \"Collectable\"}, {\"petals\": 4, \"type\": \"Flower\", \"masterType\": \"Collectable\"}, {\"petals\": 5, \"type\": \"Flower\", \"masterType\": \"Collectable\"}, {\"petals\": 6, \"type\": \"Flower\", \"masterType\": \"Collectable\"}, {\"petals\": 7, \"type\": \"Flower\", \"masterType\": \"Collectable\"}, {\"petals\": 8, \"type\": \"Flower\", \"masterType\": \"Collectable\"}, {\"petals\": 9, \"type\": \"Flower\", \"masterType\": \"Collectable\"}, {\"petals\": 9, \"type\": \"Flower\", \"masterType\": \"Collectable\"}]\n",
      "Sorted by Color: [{\"color\": \"Blue\", \"type\": \"Flower\", \"masterType\": \"Collectable\"}, {\"color\": \"Brown\", \"type\": \"Flower\", \"masterType\": \"Collectable\"}, {\"color\": \"Green\", \"type\": \"Flower\", \"masterType\": \"Collectable\"}, {\"color\": \"Grey\", \"type\": \"Flower\", \"masterType\": \"Collectable\"}, {\"color\": \"Orange\", \"type\": \"Flower\", \"masterType\": \"Collectable\"}, {\"color\": \"Pink\", \"type\": \"Flower\", \"masterType\": \"Collectable\"}, {\"color\": \"Purple\", \"type\": \"Flower\", \"masterType\": \"Collectable\"}, {\"color\": \"Red\", \"type\": \"Flower\", \"masterType\": \"Collectable\"}, {\"color\": \"White\", \"type\": \"Flower\", \"masterType\": \"Collectable\"}, {\"color\": \"Yellow\", \"type\": \"Flower\", \"masterType\": \"Collectable\"}]\n"
     ]
    }
   ],
   "source": [
    "List<Collectable> flowerList = CreateGarden.flowers();\n",
    "Flower.setOrder(Flower.KeyType.breed);\n",
    "System.out.println(\"Original: \" + flowerList);\n",
    "\n",
    "// breed\n",
    "Flower flower = new Flower(\"\", 0, \"\");\n",
    "flower.selectionSort(flowerList);\n",
    "System.out.println(\"Sorted by Breed: \" + flowerList);\n",
    "\n",
    "// petals\n",
    "Flower.setOrder(Flower.KeyType.petals);\n",
    "flower.selectionSort(flowerList);\n",
    "System.out.println(\"Sorted by Petals: \" + flowerList);\n",
    "\n",
    "// color\n",
    "Flower.setOrder(Flower.KeyType.color);\n",
    "flower.selectionSort(flowerList);\n",
    "System.out.println(\"Sorted by Color: \" + flowerList);"
   ]
  },
  {
   "cell_type": "markdown",
   "metadata": {},
   "source": [
    "This sort breaks the sort into a subarray and then based on that finds the minimum of that subarray and moves it to the front of the subarray, shifting the boundary and going on and on until the boundary reaches the end of the array."
   ]
  },
  {
   "cell_type": "markdown",
   "metadata": {},
   "source": [
    "## Insertion Sort\n",
    "\n",
    "This is insertion sort:"
   ]
  },
  {
   "cell_type": "code",
   "execution_count": 42,
   "metadata": {
    "vscode": {
     "languageId": "java"
    }
   },
   "outputs": [
    {
     "name": "stdout",
     "output_type": "stream",
     "text": [
      "Original: [{\"breed\": \"Lotus\", \"type\": \"Flower\", \"masterType\": \"Collectable\"}, {\"breed\": \"Camellia\", \"type\": \"Flower\", \"masterType\": \"Collectable\"}, {\"breed\": \"Ghost Orchid\", \"type\": \"Flower\", \"masterType\": \"Collectable\"}, {\"breed\": \"Chocolate Cosmos\", \"type\": \"Flower\", \"masterType\": \"Collectable\"}, {\"breed\": \"Corpse Flower\", \"type\": \"Flower\", \"masterType\": \"Collectable\"}, {\"breed\": \"Jade Vine\", \"type\": \"Flower\", \"masterType\": \"Collectable\"}, {\"breed\": \"Juliet Rose\", \"type\": \"Flower\", \"masterType\": \"Collectable\"}, {\"breed\": \"Pasqueflower\", \"type\": \"Flower\", \"masterType\": \"Collectable\"}, {\"breed\": \"Campion\", \"type\": \"Flower\", \"masterType\": \"Collectable\"}, {\"breed\": \"Franklin Tree\", \"type\": \"Flower\", \"masterType\": \"Collectable\"}]\n",
      "Sorted by Breed: [{\"breed\": \"Camellia\", \"type\": \"Flower\", \"masterType\": \"Collectable\"}, {\"breed\": \"Campion\", \"type\": \"Flower\", \"masterType\": \"Collectable\"}, {\"breed\": \"Chocolate Cosmos\", \"type\": \"Flower\", \"masterType\": \"Collectable\"}, {\"breed\": \"Corpse Flower\", \"type\": \"Flower\", \"masterType\": \"Collectable\"}, {\"breed\": \"Franklin Tree\", \"type\": \"Flower\", \"masterType\": \"Collectable\"}, {\"breed\": \"Ghost Orchid\", \"type\": \"Flower\", \"masterType\": \"Collectable\"}, {\"breed\": \"Jade Vine\", \"type\": \"Flower\", \"masterType\": \"Collectable\"}, {\"breed\": \"Juliet Rose\", \"type\": \"Flower\", \"masterType\": \"Collectable\"}, {\"breed\": \"Lotus\", \"type\": \"Flower\", \"masterType\": \"Collectable\"}, {\"breed\": \"Pasqueflower\", \"type\": \"Flower\", \"masterType\": \"Collectable\"}]\n",
      "Sorted by Petals: [{\"petals\": 1, \"type\": \"Flower\", \"masterType\": \"Collectable\"}, {\"petals\": 2, \"type\": \"Flower\", \"masterType\": \"Collectable\"}, {\"petals\": 3, \"type\": \"Flower\", \"masterType\": \"Collectable\"}, {\"petals\": 4, \"type\": \"Flower\", \"masterType\": \"Collectable\"}, {\"petals\": 5, \"type\": \"Flower\", \"masterType\": \"Collectable\"}, {\"petals\": 6, \"type\": \"Flower\", \"masterType\": \"Collectable\"}, {\"petals\": 7, \"type\": \"Flower\", \"masterType\": \"Collectable\"}, {\"petals\": 8, \"type\": \"Flower\", \"masterType\": \"Collectable\"}, {\"petals\": 9, \"type\": \"Flower\", \"masterType\": \"Collectable\"}, {\"petals\": 9, \"type\": \"Flower\", \"masterType\": \"Collectable\"}]\n",
      "Sorted by Color: [{\"color\": \"Blue\", \"type\": \"Flower\", \"masterType\": \"Collectable\"}, {\"color\": \"Brown\", \"type\": \"Flower\", \"masterType\": \"Collectable\"}, {\"color\": \"Green\", \"type\": \"Flower\", \"masterType\": \"Collectable\"}, {\"color\": \"Grey\", \"type\": \"Flower\", \"masterType\": \"Collectable\"}, {\"color\": \"Orange\", \"type\": \"Flower\", \"masterType\": \"Collectable\"}, {\"color\": \"Pink\", \"type\": \"Flower\", \"masterType\": \"Collectable\"}, {\"color\": \"Purple\", \"type\": \"Flower\", \"masterType\": \"Collectable\"}, {\"color\": \"Red\", \"type\": \"Flower\", \"masterType\": \"Collectable\"}, {\"color\": \"White\", \"type\": \"Flower\", \"masterType\": \"Collectable\"}, {\"color\": \"Yellow\", \"type\": \"Flower\", \"masterType\": \"Collectable\"}]\n"
     ]
    }
   ],
   "source": [
    "List<Collectable> flowerList = CreateGarden.flowers();\n",
    "Flower.setOrder(Flower.KeyType.breed);\n",
    "System.out.println(\"Original: \" + flowerList);\n",
    "\n",
    "// breed\n",
    "Flower flower = new Flower(\"\", 0, \"\");\n",
    "flower.insertionSort(flowerList);\n",
    "System.out.println(\"Sorted by Breed: \" + flowerList);\n",
    "\n",
    "// petals\n",
    "Flower.setOrder(Flower.KeyType.petals);\n",
    "flower.insertionSort(flowerList);\n",
    "System.out.println(\"Sorted by Petals: \" + flowerList);\n",
    "\n",
    "// color\n",
    "Flower.setOrder(Flower.KeyType.color);\n",
    "flower.insertionSort(flowerList);\n",
    "System.out.println(\"Sorted by Color: \" + flowerList);"
   ]
  },
  {
   "cell_type": "markdown",
   "metadata": {},
   "source": [
    "How this one works is that the values that are before the key and greater than the key are moved to after the key and the rest of the values stay before the key and as the key moves through the array, the array sorts."
   ]
  },
  {
   "cell_type": "markdown",
   "metadata": {},
   "source": [
    "## Merge Sort\n",
    "\n",
    "This is merge:"
   ]
  },
  {
   "cell_type": "code",
   "execution_count": 43,
   "metadata": {
    "vscode": {
     "languageId": "java"
    }
   },
   "outputs": [
    {
     "name": "stdout",
     "output_type": "stream",
     "text": [
      "Original: [{\"breed\": \"Lotus\", \"type\": \"Flower\", \"masterType\": \"Collectable\"}, {\"breed\": \"Camellia\", \"type\": \"Flower\", \"masterType\": \"Collectable\"}, {\"breed\": \"Ghost Orchid\", \"type\": \"Flower\", \"masterType\": \"Collectable\"}, {\"breed\": \"Chocolate Cosmos\", \"type\": \"Flower\", \"masterType\": \"Collectable\"}, {\"breed\": \"Corpse Flower\", \"type\": \"Flower\", \"masterType\": \"Collectable\"}, {\"breed\": \"Jade Vine\", \"type\": \"Flower\", \"masterType\": \"Collectable\"}, {\"breed\": \"Juliet Rose\", \"type\": \"Flower\", \"masterType\": \"Collectable\"}, {\"breed\": \"Pasqueflower\", \"type\": \"Flower\", \"masterType\": \"Collectable\"}, {\"breed\": \"Campion\", \"type\": \"Flower\", \"masterType\": \"Collectable\"}, {\"breed\": \"Franklin Tree\", \"type\": \"Flower\", \"masterType\": \"Collectable\"}]\n"
     ]
    },
    {
     "name": "stdout",
     "output_type": "stream",
     "text": [
      "Sorted by Breed: [{\"breed\": \"Camellia\", \"type\": \"Flower\", \"masterType\": \"Collectable\"}, {\"breed\": \"Campion\", \"type\": \"Flower\", \"masterType\": \"Collectable\"}, {\"breed\": \"Chocolate Cosmos\", \"type\": \"Flower\", \"masterType\": \"Collectable\"}, {\"breed\": \"Corpse Flower\", \"type\": \"Flower\", \"masterType\": \"Collectable\"}, {\"breed\": \"Franklin Tree\", \"type\": \"Flower\", \"masterType\": \"Collectable\"}, {\"breed\": \"Ghost Orchid\", \"type\": \"Flower\", \"masterType\": \"Collectable\"}, {\"breed\": \"Jade Vine\", \"type\": \"Flower\", \"masterType\": \"Collectable\"}, {\"breed\": \"Juliet Rose\", \"type\": \"Flower\", \"masterType\": \"Collectable\"}, {\"breed\": \"Lotus\", \"type\": \"Flower\", \"masterType\": \"Collectable\"}, {\"breed\": \"Pasqueflower\", \"type\": \"Flower\", \"masterType\": \"Collectable\"}]\n",
      "Sorted by Petals: [{\"petals\": 1, \"type\": \"Flower\", \"masterType\": \"Collectable\"}, {\"petals\": 2, \"type\": \"Flower\", \"masterType\": \"Collectable\"}, {\"petals\": 3, \"type\": \"Flower\", \"masterType\": \"Collectable\"}, {\"petals\": 4, \"type\": \"Flower\", \"masterType\": \"Collectable\"}, {\"petals\": 5, \"type\": \"Flower\", \"masterType\": \"Collectable\"}, {\"petals\": 6, \"type\": \"Flower\", \"masterType\": \"Collectable\"}, {\"petals\": 7, \"type\": \"Flower\", \"masterType\": \"Collectable\"}, {\"petals\": 8, \"type\": \"Flower\", \"masterType\": \"Collectable\"}, {\"petals\": 9, \"type\": \"Flower\", \"masterType\": \"Collectable\"}, {\"petals\": 9, \"type\": \"Flower\", \"masterType\": \"Collectable\"}]\n",
      "Sorted by Color: [{\"color\": \"Blue\", \"type\": \"Flower\", \"masterType\": \"Collectable\"}, {\"color\": \"Brown\", \"type\": \"Flower\", \"masterType\": \"Collectable\"}, {\"color\": \"Green\", \"type\": \"Flower\", \"masterType\": \"Collectable\"}, {\"color\": \"Grey\", \"type\": \"Flower\", \"masterType\": \"Collectable\"}, {\"color\": \"Orange\", \"type\": \"Flower\", \"masterType\": \"Collectable\"}, {\"color\": \"Pink\", \"type\": \"Flower\", \"masterType\": \"Collectable\"}, {\"color\": \"Purple\", \"type\": \"Flower\", \"masterType\": \"Collectable\"}, {\"color\": \"Red\", \"type\": \"Flower\", \"masterType\": \"Collectable\"}, {\"color\": \"White\", \"type\": \"Flower\", \"masterType\": \"Collectable\"}, {\"color\": \"Yellow\", \"type\": \"Flower\", \"masterType\": \"Collectable\"}]\n"
     ]
    }
   ],
   "source": [
    "List<Collectable> flowerList = CreateGarden.flowers();\n",
    "Flower.setOrder(Flower.KeyType.breed);\n",
    "System.out.println(\"Original: \" + flowerList);\n",
    "\n",
    "// breed\n",
    "Flower flower = new Flower(\"\", 0, \"\");\n",
    "flower.mergeSort(flowerList);\n",
    "System.out.println(\"Sorted by Breed: \" + flowerList);\n",
    "\n",
    "// petals\n",
    "Flower.setOrder(Flower.KeyType.petals);\n",
    "flower.mergeSort(flowerList);\n",
    "System.out.println(\"Sorted by Petals: \" + flowerList);\n",
    "\n",
    "// color\n",
    "Flower.setOrder(Flower.KeyType.color);\n",
    "flower.mergeSort(flowerList);\n",
    "System.out.println(\"Sorted by Color: \" + flowerList);"
   ]
  },
  {
   "cell_type": "markdown",
   "metadata": {},
   "source": [
    "This algorithm takes the array and splits it into halves an infinite number of times until there are only pairs. From there the values are broken down and compared to the other value around them to see if they are greater than or less than and then they are moved respectively. If the values are the same, they are not moved."
   ]
  },
  {
   "cell_type": "markdown",
   "metadata": {},
   "source": [
    "## Quick Sort\n",
    "\n",
    "This is quick sort:"
   ]
  },
  {
   "cell_type": "code",
   "execution_count": 52,
   "metadata": {
    "vscode": {
     "languageId": "java"
    }
   },
   "outputs": [
    {
     "name": "stdout",
     "output_type": "stream",
     "text": [
      "Original: [{\"breed\": \"Lotus\", \"type\": \"Flower\", \"masterType\": \"Collectable\"}, {\"breed\": \"Camellia\", \"type\": \"Flower\", \"masterType\": \"Collectable\"}, {\"breed\": \"Ghost Orchid\", \"type\": \"Flower\", \"masterType\": \"Collectable\"}, {\"breed\": \"Chocolate Cosmos\", \"type\": \"Flower\", \"masterType\": \"Collectable\"}, {\"breed\": \"Corpse Flower\", \"type\": \"Flower\", \"masterType\": \"Collectable\"}, {\"breed\": \"Jade Vine\", \"type\": \"Flower\", \"masterType\": \"Collectable\"}, {\"breed\": \"Juliet Rose\", \"type\": \"Flower\", \"masterType\": \"Collectable\"}, {\"breed\": \"Pasqueflower\", \"type\": \"Flower\", \"masterType\": \"Collectable\"}, {\"breed\": \"Campion\", \"type\": \"Flower\", \"masterType\": \"Collectable\"}, {\"breed\": \"Franklin Tree\", \"type\": \"Flower\", \"masterType\": \"Collectable\"}]\n"
     ]
    },
    {
     "name": "stdout",
     "output_type": "stream",
     "text": [
      "Sorted by Breed: [{\"breed\": \"Camellia\", \"type\": \"Flower\", \"masterType\": \"Collectable\"}, {\"breed\": \"Campion\", \"type\": \"Flower\", \"masterType\": \"Collectable\"}, {\"breed\": \"Chocolate Cosmos\", \"type\": \"Flower\", \"masterType\": \"Collectable\"}, {\"breed\": \"Corpse Flower\", \"type\": \"Flower\", \"masterType\": \"Collectable\"}, {\"breed\": \"Franklin Tree\", \"type\": \"Flower\", \"masterType\": \"Collectable\"}, {\"breed\": \"Ghost Orchid\", \"type\": \"Flower\", \"masterType\": \"Collectable\"}, {\"breed\": \"Jade Vine\", \"type\": \"Flower\", \"masterType\": \"Collectable\"}, {\"breed\": \"Juliet Rose\", \"type\": \"Flower\", \"masterType\": \"Collectable\"}, {\"breed\": \"Lotus\", \"type\": \"Flower\", \"masterType\": \"Collectable\"}, {\"breed\": \"Pasqueflower\", \"type\": \"Flower\", \"masterType\": \"Collectable\"}]\n",
      "Sorted by Petals: [{\"petals\": 1, \"type\": \"Flower\", \"masterType\": \"Collectable\"}, {\"petals\": 2, \"type\": \"Flower\", \"masterType\": \"Collectable\"}, {\"petals\": 3, \"type\": \"Flower\", \"masterType\": \"Collectable\"}, {\"petals\": 4, \"type\": \"Flower\", \"masterType\": \"Collectable\"}, {\"petals\": 5, \"type\": \"Flower\", \"masterType\": \"Collectable\"}, {\"petals\": 6, \"type\": \"Flower\", \"masterType\": \"Collectable\"}, {\"petals\": 7, \"type\": \"Flower\", \"masterType\": \"Collectable\"}, {\"petals\": 8, \"type\": \"Flower\", \"masterType\": \"Collectable\"}, {\"petals\": 9, \"type\": \"Flower\", \"masterType\": \"Collectable\"}, {\"petals\": 9, \"type\": \"Flower\", \"masterType\": \"Collectable\"}]\n",
      "Sorted by Color: [{\"color\": \"Blue\", \"type\": \"Flower\", \"masterType\": \"Collectable\"}, {\"color\": \"Brown\", \"type\": \"Flower\", \"masterType\": \"Collectable\"}, {\"color\": \"Green\", \"type\": \"Flower\", \"masterType\": \"Collectable\"}, {\"color\": \"Grey\", \"type\": \"Flower\", \"masterType\": \"Collectable\"}, {\"color\": \"Orange\", \"type\": \"Flower\", \"masterType\": \"Collectable\"}, {\"color\": \"Pink\", \"type\": \"Flower\", \"masterType\": \"Collectable\"}, {\"color\": \"Purple\", \"type\": \"Flower\", \"masterType\": \"Collectable\"}, {\"color\": \"Red\", \"type\": \"Flower\", \"masterType\": \"Collectable\"}, {\"color\": \"White\", \"type\": \"Flower\", \"masterType\": \"Collectable\"}, {\"color\": \"Yellow\", \"type\": \"Flower\", \"masterType\": \"Collectable\"}]\n"
     ]
    }
   ],
   "source": [
    "List<Collectable> flowerList = CreateGarden.flowers();\n",
    "Flower.setOrder(Flower.KeyType.breed);\n",
    "System.out.println(\"Original: \" + flowerList);\n",
    "\n",
    "// breed\n",
    "Flower flower = new Flower(\"\", 0, \"\");\n",
    "flower.quickSort(flowerList, 0, flowerList.size() - 1);\n",
    "System.out.println(\"Sorted by Breed: \" + flowerList);\n",
    "\n",
    "// petals\n",
    "Flower.setOrder(Flower.KeyType.petals);\n",
    "flower.quickSort(flowerList, 0, flowerList.size() - 1);\n",
    "System.out.println(\"Sorted by Petals: \" + flowerList);\n",
    "\n",
    "// color\n",
    "Flower.setOrder(Flower.KeyType.color);\n",
    "flower.quickSort(flowerList, 0, flowerList.size() - 1);\n",
    "System.out.println(\"Sorted by Color: \" + flowerList);\n"
   ]
  },
  {
   "cell_type": "markdown",
   "metadata": {},
   "source": [
    "In this sort, there is a pivot which is used to sort so that the two values that are next to each other are compared and then sorted out and this occurs until the entire array is sorted."
   ]
  }
 ],
 "metadata": {
  "kernelspec": {
   "display_name": "Java",
   "language": "java",
   "name": "java"
  },
  "language_info": {
   "codemirror_mode": "java",
   "file_extension": ".jshell",
   "mimetype": "text/x-java-source",
   "name": "Java",
   "pygments_lexer": "java",
   "version": "17.0.10+7-Ubuntu-122.04.1"
  }
 },
 "nbformat": 4,
 "nbformat_minor": 2
}
